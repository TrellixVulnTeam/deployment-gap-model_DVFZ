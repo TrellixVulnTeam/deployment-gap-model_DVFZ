{
 "cells": [
  {
   "cell_type": "code",
   "execution_count": 3,
   "id": "27ce79c7-9f46-4d6d-9ff2-190d44d421ef",
   "metadata": {},
   "outputs": [],
   "source": [
    "import sqlalchemy as sa\n",
    "import pandas as pd\n",
    "\n",
    "sqlite_engine = sa.create_engine(\"sqlite:////app/data/output/data_warehouse.sqlite\")"
   ]
  },
  {
   "cell_type": "code",
   "execution_count": 44,
   "id": "564b30f9-ad7b-4941-b1fd-27f898ce85b2",
   "metadata": {},
   "outputs": [],
   "source": [
    "with sqlite_engine.connect() as conn:\n",
    "    iso_locations_2021 = pd.read_sql_table(\"iso_locations_2021\", conn)\n",
    "    iso_projects_2021 = pd.read_sql_table(\"iso_projects_2021\", conn)\n",
    "    iso_resource_capacity_2021 = pd.read_sql_table(\"iso_resource_capacity_2021\", conn)\n",
    "    iso_locations = pd.read_sql_table(\"iso_locations\", conn)\n",
    "    iso_projects = pd.read_sql_table(\"iso_projects\", conn)\n",
    "    iso_resource_capacity = pd.read_sql_table(\"iso_resource_capacity\", conn)\n",
    "    \n",
    "    iso_for_tableau = pd.read_sql_table(\"iso_for_tableau\", conn)"
   ]
  },
  {
   "cell_type": "markdown",
   "id": "34bc5390-a4a4-4273-bcda-8d02c6625790",
   "metadata": {},
   "source": [
    "## ISO Queue Schema diffs"
   ]
  },
  {
   "cell_type": "code",
   "execution_count": 43,
   "id": "e3a9df50-6693-42fc-92fe-09b4f6d555dd",
   "metadata": {},
   "outputs": [
    {
     "name": "stdout",
     "output_type": "stream",
     "text": [
      "In A not in B: {'resource_class', 'project_class'}\n",
      "\n",
      "In B not in A: set()\n",
      "\n",
      "In Both: {'capacity_mw', 'project_id', 'resource_clean', 'resource'}\n",
      "\n"
     ]
    }
   ],
   "source": [
    "def diff_lists(a, b):\n",
    "    a = set(a)\n",
    "    b = set(b)\n",
    "    print(f\"In A not in B: {a.difference(b)}\\n\")\n",
    "    print(f\"In B not in A: {b.difference(a)}\\n\")\n",
    "    print(f\"In Both: {b.intersection(a)}\\n\")\n",
    "    \n",
    "# diff_lists(iso_projects.columns, iso_projects_2021.columns)\n",
    "diff_lists(iso_resource_capacity.columns, iso_resource_capacity_2021.columns)"
   ]
  },
  {
   "cell_type": "code",
   "execution_count": 41,
   "id": "eef0d06c-e2da-4768-a1e7-b337e691a2a4",
   "metadata": {},
   "outputs": [
    {
     "data": {
      "text/plain": [
       "0       Partial Capacity\n",
       "1          Full Capacity\n",
       "2       Partial Capacity\n",
       "3       Partial Capacity\n",
       "4       Partial Capacity\n",
       "              ...       \n",
       "7637                None\n",
       "7638                None\n",
       "7639                None\n",
       "7640                None\n",
       "7641                None\n",
       "Name: interconnection_service_type, Length: 7642, dtype: object"
      ]
     },
     "execution_count": 41,
     "metadata": {},
     "output_type": "execute_result"
    }
   ],
   "source": [
    "iso_projects_2021.interconnection_service_type"
   ]
  },
  {
   "cell_type": "code",
   "execution_count": 38,
   "id": "6366f43f-a4d4-49bb-93c4-a87f639a2f81",
   "metadata": {},
   "outputs": [
    {
     "data": {
      "text/plain": [
       "  2/9/2021    24\n",
       "10/12/2021    18\n",
       " 5/19/2021     8\n",
       "25jan2010      6\n",
       " 6/15/2021     6\n",
       "              ..\n",
       " 2/28/2008     1\n",
       " 4/13/2018     1\n",
       "10/16/2018     1\n",
       "  4/1/2020     1\n",
       "20feb2014      1\n",
       "Name: interconnection_date_raw, Length: 378, dtype: int64"
      ]
     },
     "execution_count": 38,
     "metadata": {},
     "output_type": "execute_result"
    }
   ],
   "source": [
    "iso_projects_2021.interconnection_date_raw.value_counts()"
   ]
  },
  {
   "cell_type": "markdown",
   "id": "5ae522db-58f4-4a2c-8b13-75d27138a06b",
   "metadata": {
    "tags": []
   },
   "source": [
    "## ISO Queue duplicates"
   ]
  },
  {
   "cell_type": "code",
   "execution_count": 27,
   "id": "5ed3b042-2512-4154-aaba-b7262749f567",
   "metadata": {},
   "outputs": [
    {
     "data": {
      "text/html": [
       "<div>\n",
       "<style scoped>\n",
       "    .dataframe tbody tr th:only-of-type {\n",
       "        vertical-align: middle;\n",
       "    }\n",
       "\n",
       "    .dataframe tbody tr th {\n",
       "        vertical-align: top;\n",
       "    }\n",
       "\n",
       "    .dataframe thead th {\n",
       "        text-align: right;\n",
       "    }\n",
       "</style>\n",
       "<table border=\"1\" class=\"dataframe\">\n",
       "  <thead>\n",
       "    <tr style=\"text-align: right;\">\n",
       "      <th></th>\n",
       "      <th>project_id</th>\n",
       "      <th>raw_county_name</th>\n",
       "      <th>raw_state_name</th>\n",
       "      <th>state_id_fips</th>\n",
       "      <th>county_id_fips</th>\n",
       "      <th>geocoded_locality_name</th>\n",
       "      <th>geocoded_locality_type</th>\n",
       "      <th>geocoded_containing_county</th>\n",
       "    </tr>\n",
       "  </thead>\n",
       "  <tbody>\n",
       "    <tr>\n",
       "      <th>174</th>\n",
       "      <td>179</td>\n",
       "      <td>nye</td>\n",
       "      <td>NV</td>\n",
       "      <td>32</td>\n",
       "      <td>32023</td>\n",
       "      <td>nye</td>\n",
       "      <td>county</td>\n",
       "      <td>nye</td>\n",
       "    </tr>\n",
       "    <tr>\n",
       "      <th>175</th>\n",
       "      <td>179</td>\n",
       "      <td>clark</td>\n",
       "      <td>NV</td>\n",
       "      <td>32</td>\n",
       "      <td>32003</td>\n",
       "      <td>clark</td>\n",
       "      <td>county</td>\n",
       "      <td>clark</td>\n",
       "    </tr>\n",
       "    <tr>\n",
       "      <th>609</th>\n",
       "      <td>631</td>\n",
       "      <td>androscoggin</td>\n",
       "      <td>ME</td>\n",
       "      <td>23</td>\n",
       "      <td>23001</td>\n",
       "      <td>androscoggin</td>\n",
       "      <td>county</td>\n",
       "      <td>androscoggin</td>\n",
       "    </tr>\n",
       "    <tr>\n",
       "      <th>610</th>\n",
       "      <td>631</td>\n",
       "      <td>franklin</td>\n",
       "      <td>ME</td>\n",
       "      <td>23</td>\n",
       "      <td>23007</td>\n",
       "      <td>franklin</td>\n",
       "      <td>county</td>\n",
       "      <td>franklin</td>\n",
       "    </tr>\n",
       "    <tr>\n",
       "      <th>643</th>\n",
       "      <td>665</td>\n",
       "      <td>kennebec</td>\n",
       "      <td>ME</td>\n",
       "      <td>23</td>\n",
       "      <td>23011</td>\n",
       "      <td>kennebec</td>\n",
       "      <td>county</td>\n",
       "      <td>kennebec</td>\n",
       "    </tr>\n",
       "  </tbody>\n",
       "</table>\n",
       "</div>"
      ],
      "text/plain": [
       "     project_id raw_county_name raw_state_name state_id_fips county_id_fips  \\\n",
       "174         179             nye             NV            32          32023   \n",
       "175         179           clark             NV            32          32003   \n",
       "609         631    androscoggin             ME            23          23001   \n",
       "610         631        franklin             ME            23          23007   \n",
       "643         665        kennebec             ME            23          23011   \n",
       "\n",
       "    geocoded_locality_name geocoded_locality_type geocoded_containing_county  \n",
       "174                    nye                 county                        nye  \n",
       "175                  clark                 county                      clark  \n",
       "609           androscoggin                 county               androscoggin  \n",
       "610               franklin                 county                   franklin  \n",
       "643               kennebec                 county                   kennebec  "
      ]
     },
     "execution_count": 27,
     "metadata": {},
     "output_type": "execute_result"
    }
   ],
   "source": [
    "duplicated_locations = iso_locations_2021[iso_locations_2021.duplicated(subset=[\"project_id\"], keep=False)].sort_values(by=\"project_id\")\n",
    "duplicated_locations.head()"
   ]
  },
  {
   "cell_type": "code",
   "execution_count": 28,
   "id": "b0e3bc5a-90a1-469d-bee6-d97f328d5b2d",
   "metadata": {},
   "outputs": [
    {
     "data": {
      "text/html": [
       "<div>\n",
       "<style scoped>\n",
       "    .dataframe tbody tr th:only-of-type {\n",
       "        vertical-align: middle;\n",
       "    }\n",
       "\n",
       "    .dataframe tbody tr th {\n",
       "        vertical-align: top;\n",
       "    }\n",
       "\n",
       "    .dataframe thead th {\n",
       "        text-align: right;\n",
       "    }\n",
       "</style>\n",
       "<table border=\"1\" class=\"dataframe\">\n",
       "  <thead>\n",
       "    <tr style=\"text-align: right;\">\n",
       "      <th></th>\n",
       "      <th>project_id</th>\n",
       "      <th>region</th>\n",
       "      <th>queue_id</th>\n",
       "      <th>queue_status</th>\n",
       "      <th>queue_date_raw</th>\n",
       "      <th>queue_year</th>\n",
       "      <th>interconnection_date_raw</th>\n",
       "      <th>entity</th>\n",
       "      <th>project_name</th>\n",
       "      <th>developer</th>\n",
       "      <th>...</th>\n",
       "      <th>interconnection_service_type</th>\n",
       "      <th>point_of_interconnection</th>\n",
       "      <th>date_proposed_raw</th>\n",
       "      <th>year_proposed</th>\n",
       "      <th>interconnection_status_raw</th>\n",
       "      <th>interconnection_status_lbnl</th>\n",
       "      <th>resource_type_lbnl</th>\n",
       "      <th>queue_date</th>\n",
       "      <th>interconnection_date</th>\n",
       "      <th>date_proposed</th>\n",
       "    </tr>\n",
       "  </thead>\n",
       "  <tbody>\n",
       "    <tr>\n",
       "      <th>175</th>\n",
       "      <td>179</td>\n",
       "      <td>CAISO</td>\n",
       "      <td>1649</td>\n",
       "      <td>active</td>\n",
       "      <td>4/15/2019</td>\n",
       "      <td>2019.0</td>\n",
       "      <td>None</td>\n",
       "      <td>CAISO</td>\n",
       "      <td>BONANZA SOLAR</td>\n",
       "      <td>None</td>\n",
       "      <td>...</td>\n",
       "      <td>Full Capacity</td>\n",
       "      <td>Innovation 230kV Sub</td>\n",
       "      <td>12/1/2023</td>\n",
       "      <td>2023.0</td>\n",
       "      <td>Executed</td>\n",
       "      <td>IA Executed</td>\n",
       "      <td>Solar+Battery</td>\n",
       "      <td>2019-04-15</td>\n",
       "      <td>NaT</td>\n",
       "      <td>2023-12-01</td>\n",
       "    </tr>\n",
       "  </tbody>\n",
       "</table>\n",
       "<p>1 rows × 21 columns</p>\n",
       "</div>"
      ],
      "text/plain": [
       "     project_id region queue_id queue_status queue_date_raw  queue_year  \\\n",
       "175         179  CAISO     1649       active      4/15/2019      2019.0   \n",
       "\n",
       "    interconnection_date_raw entity   project_name developer  ...  \\\n",
       "175                     None  CAISO  BONANZA SOLAR      None  ...   \n",
       "\n",
       "    interconnection_service_type point_of_interconnection date_proposed_raw  \\\n",
       "175                Full Capacity     Innovation 230kV Sub         12/1/2023   \n",
       "\n",
       "    year_proposed  interconnection_status_raw interconnection_status_lbnl  \\\n",
       "175        2023.0                    Executed                 IA Executed   \n",
       "\n",
       "    resource_type_lbnl queue_date interconnection_date date_proposed  \n",
       "175      Solar+Battery 2019-04-15                  NaT    2023-12-01  \n",
       "\n",
       "[1 rows x 21 columns]"
      ]
     },
     "execution_count": 28,
     "metadata": {},
     "output_type": "execute_result"
    }
   ],
   "source": [
    "iso_projects_2021.query(\"project_id == 179\")"
   ]
  },
  {
   "cell_type": "code",
   "execution_count": 29,
   "id": "42b9c2b5-3a6f-443c-b633-f90b9f523641",
   "metadata": {},
   "outputs": [
    {
     "data": {
      "text/plain": [
       "2.0e+10    36\n",
       "1.9e+11     8\n",
       "2.1e+11     7\n",
       "1045        4\n",
       "100         4\n",
       "           ..\n",
       "AF2-019     1\n",
       "AF2-016     1\n",
       "AF2-014     1\n",
       "AF2-013     1\n",
       "480         1\n",
       "Name: queue_id, Length: 7181, dtype: int64"
      ]
     },
     "execution_count": 29,
     "metadata": {},
     "output_type": "execute_result"
    }
   ],
   "source": [
    "iso_projects_2021.queue_id.value_counts()"
   ]
  },
  {
   "cell_type": "code",
   "execution_count": 30,
   "id": "4733f640-d449-41a2-91d9-eb22828bb2be",
   "metadata": {},
   "outputs": [
    {
     "data": {
      "text/html": [
       "<div>\n",
       "<style scoped>\n",
       "    .dataframe tbody tr th:only-of-type {\n",
       "        vertical-align: middle;\n",
       "    }\n",
       "\n",
       "    .dataframe tbody tr th {\n",
       "        vertical-align: top;\n",
       "    }\n",
       "\n",
       "    .dataframe thead th {\n",
       "        text-align: right;\n",
       "    }\n",
       "</style>\n",
       "<table border=\"1\" class=\"dataframe\">\n",
       "  <thead>\n",
       "    <tr style=\"text-align: right;\">\n",
       "      <th></th>\n",
       "      <th>project_id</th>\n",
       "      <th>region</th>\n",
       "      <th>queue_id</th>\n",
       "      <th>queue_status</th>\n",
       "      <th>queue_date_raw</th>\n",
       "      <th>queue_year</th>\n",
       "      <th>interconnection_date_raw</th>\n",
       "      <th>entity</th>\n",
       "      <th>project_name</th>\n",
       "      <th>developer</th>\n",
       "      <th>...</th>\n",
       "      <th>interconnection_service_type</th>\n",
       "      <th>point_of_interconnection</th>\n",
       "      <th>date_proposed_raw</th>\n",
       "      <th>year_proposed</th>\n",
       "      <th>interconnection_status_raw</th>\n",
       "      <th>interconnection_status_lbnl</th>\n",
       "      <th>resource_type_lbnl</th>\n",
       "      <th>queue_date</th>\n",
       "      <th>interconnection_date</th>\n",
       "      <th>date_proposed</th>\n",
       "    </tr>\n",
       "  </thead>\n",
       "  <tbody>\n",
       "    <tr>\n",
       "      <th>6131</th>\n",
       "      <td>6410</td>\n",
       "      <td>West (non-ISO)</td>\n",
       "      <td>100</td>\n",
       "      <td>active</td>\n",
       "      <td>27sep2019</td>\n",
       "      <td>2019.0</td>\n",
       "      <td>None</td>\n",
       "      <td>Avista</td>\n",
       "      <td>None</td>\n",
       "      <td>None</td>\n",
       "      <td>...</td>\n",
       "      <td>NR/ER</td>\n",
       "      <td>Benewah 230 kV Station</td>\n",
       "      <td>31dec2021</td>\n",
       "      <td>2021.0</td>\n",
       "      <td>FS</td>\n",
       "      <td>In Progress</td>\n",
       "      <td>Solar+Battery</td>\n",
       "      <td>2019-09-27</td>\n",
       "      <td>NaT</td>\n",
       "      <td>NaT</td>\n",
       "    </tr>\n",
       "    <tr>\n",
       "      <th>6624</th>\n",
       "      <td>6961</td>\n",
       "      <td>West (non-ISO)</td>\n",
       "      <td>100</td>\n",
       "      <td>active</td>\n",
       "      <td>4/15/2021</td>\n",
       "      <td>2021.0</td>\n",
       "      <td>None</td>\n",
       "      <td>PSE</td>\n",
       "      <td>None</td>\n",
       "      <td>None</td>\n",
       "      <td>...</td>\n",
       "      <td>NRIS</td>\n",
       "      <td>White River 115 kV</td>\n",
       "      <td>1/6/2024</td>\n",
       "      <td>2024.0</td>\n",
       "      <td>System Impact Study</td>\n",
       "      <td>In Progress</td>\n",
       "      <td>Battery</td>\n",
       "      <td>2021-04-15</td>\n",
       "      <td>NaT</td>\n",
       "      <td>2024-01-06</td>\n",
       "    </tr>\n",
       "    <tr>\n",
       "      <th>6919</th>\n",
       "      <td>7318</td>\n",
       "      <td>Southeast (non-ISO)</td>\n",
       "      <td>100</td>\n",
       "      <td>active</td>\n",
       "      <td>4/26/2018</td>\n",
       "      <td>2018.0</td>\n",
       "      <td>None</td>\n",
       "      <td>S-C</td>\n",
       "      <td>None</td>\n",
       "      <td>None</td>\n",
       "      <td>...</td>\n",
       "      <td>NR/ER</td>\n",
       "      <td>None</td>\n",
       "      <td>30nov2020</td>\n",
       "      <td>2020.0</td>\n",
       "      <td>In Progress</td>\n",
       "      <td>In Progress</td>\n",
       "      <td>Solar</td>\n",
       "      <td>2018-04-26</td>\n",
       "      <td>NaT</td>\n",
       "      <td>NaT</td>\n",
       "    </tr>\n",
       "    <tr>\n",
       "      <th>7118</th>\n",
       "      <td>7556</td>\n",
       "      <td>West (non-ISO)</td>\n",
       "      <td>100</td>\n",
       "      <td>active</td>\n",
       "      <td>30oct2021</td>\n",
       "      <td>2021.0</td>\n",
       "      <td>None</td>\n",
       "      <td>TEP</td>\n",
       "      <td>None</td>\n",
       "      <td>None</td>\n",
       "      <td>...</td>\n",
       "      <td>Network</td>\n",
       "      <td>Vail 138kV Substation</td>\n",
       "      <td>05jan2024</td>\n",
       "      <td>2024.0</td>\n",
       "      <td>Application Received</td>\n",
       "      <td>Not Started</td>\n",
       "      <td>Battery</td>\n",
       "      <td>2021-10-30</td>\n",
       "      <td>NaT</td>\n",
       "      <td>NaT</td>\n",
       "    </tr>\n",
       "  </tbody>\n",
       "</table>\n",
       "<p>4 rows × 21 columns</p>\n",
       "</div>"
      ],
      "text/plain": [
       "      project_id               region queue_id queue_status queue_date_raw  \\\n",
       "6131        6410       West (non-ISO)      100       active      27sep2019   \n",
       "6624        6961       West (non-ISO)      100       active      4/15/2021   \n",
       "6919        7318  Southeast (non-ISO)      100       active      4/26/2018   \n",
       "7118        7556       West (non-ISO)      100       active      30oct2021   \n",
       "\n",
       "      queue_year interconnection_date_raw  entity project_name developer  ...  \\\n",
       "6131      2019.0                     None  Avista         None      None  ...   \n",
       "6624      2021.0                     None     PSE         None      None  ...   \n",
       "6919      2018.0                     None     S-C         None      None  ...   \n",
       "7118      2021.0                     None     TEP         None      None  ...   \n",
       "\n",
       "     interconnection_service_type point_of_interconnection date_proposed_raw  \\\n",
       "6131                        NR/ER   Benewah 230 kV Station         31dec2021   \n",
       "6624                         NRIS       White River 115 kV          1/6/2024   \n",
       "6919                        NR/ER                     None         30nov2020   \n",
       "7118                      Network    Vail 138kV Substation         05jan2024   \n",
       "\n",
       "     year_proposed  interconnection_status_raw interconnection_status_lbnl  \\\n",
       "6131        2021.0                          FS                 In Progress   \n",
       "6624        2024.0         System Impact Study                 In Progress   \n",
       "6919        2020.0                 In Progress                 In Progress   \n",
       "7118        2024.0        Application Received                 Not Started   \n",
       "\n",
       "     resource_type_lbnl queue_date interconnection_date date_proposed  \n",
       "6131      Solar+Battery 2019-09-27                  NaT           NaT  \n",
       "6624            Battery 2021-04-15                  NaT    2024-01-06  \n",
       "6919              Solar 2018-04-26                  NaT           NaT  \n",
       "7118            Battery 2021-10-30                  NaT           NaT  \n",
       "\n",
       "[4 rows x 21 columns]"
      ]
     },
     "execution_count": 30,
     "metadata": {},
     "output_type": "execute_result"
    }
   ],
   "source": [
    "iso_projects_2021.query(\"queue_id == '100'\")"
   ]
  },
  {
   "cell_type": "markdown",
   "id": "8ccdd386-1e40-4c46-b059-d986e2ff38d8",
   "metadata": {},
   "source": [
    "## iso_locations_2021"
   ]
  },
  {
   "cell_type": "markdown",
   "id": "3aa2ba0c-98fc-4073-a88b-566662b6d310",
   "metadata": {},
   "source": [
    "### Missing Counties"
   ]
  },
  {
   "cell_type": "code",
   "execution_count": 181,
   "id": "739c6a1f-f3e6-49d8-82ea-aa362202f88d",
   "metadata": {},
   "outputs": [
    {
     "data": {
      "text/plain": [
       "project_id  county_id_fips\n",
       "False       False             7468\n",
       "            True                93\n",
       "dtype: int64"
      ]
     },
     "execution_count": 181,
     "metadata": {},
     "output_type": "execute_result"
    }
   ],
   "source": [
    "iso_locations_2021[[\"project_id\", \"county_id_fips\"]].isna().value_counts()"
   ]
  },
  {
   "cell_type": "code",
   "execution_count": 187,
   "id": "0d312774-48df-4733-894f-933635fe9623",
   "metadata": {},
   "outputs": [
    {
     "data": {
      "text/plain": [
       "NaN    70\n",
       "MX      6\n",
       "VA      6\n",
       "CA      2\n",
       "OK      2\n",
       "NM      2\n",
       "MN      1\n",
       "OH      1\n",
       "TX      1\n",
       "AZ      1\n",
       "OR      1\n",
       "Name: raw_state_name, dtype: int64"
      ]
     },
     "execution_count": 187,
     "metadata": {},
     "output_type": "execute_result"
    }
   ],
   "source": [
    "missing_locations = iso_locations_2021[iso_locations_2021.county_id_fips.isna()]\n",
    "missing_locations.raw_state_name.value_counts(dropna=False)"
   ]
  },
  {
   "cell_type": "code",
   "execution_count": 196,
   "id": "071bc750-8b2c-455a-a6c3-e457d5203e35",
   "metadata": {},
   "outputs": [
    {
     "data": {
      "text/html": [
       "<div>\n",
       "<style scoped>\n",
       "    .dataframe tbody tr th:only-of-type {\n",
       "        vertical-align: middle;\n",
       "    }\n",
       "\n",
       "    .dataframe tbody tr th {\n",
       "        vertical-align: top;\n",
       "    }\n",
       "\n",
       "    .dataframe thead th {\n",
       "        text-align: right;\n",
       "    }\n",
       "</style>\n",
       "<table border=\"1\" class=\"dataframe\">\n",
       "  <thead>\n",
       "    <tr style=\"text-align: right;\">\n",
       "      <th></th>\n",
       "      <th>project_id</th>\n",
       "      <th>raw_county_name</th>\n",
       "      <th>raw_state_name</th>\n",
       "      <th>state_id_fips</th>\n",
       "      <th>county_id_fips</th>\n",
       "      <th>geocoded_locality_name</th>\n",
       "      <th>geocoded_locality_type</th>\n",
       "      <th>geocoded_containing_county</th>\n",
       "    </tr>\n",
       "  </thead>\n",
       "  <tbody>\n",
       "    <tr>\n",
       "      <th>6837</th>\n",
       "      <td>7288</td>\n",
       "      <td>orangeburg</td>\n",
       "      <td>None</td>\n",
       "      <td>None</td>\n",
       "      <td>None</td>\n",
       "      <td>Orangeburg</td>\n",
       "      <td>city</td>\n",
       "      <td>Orangeburg County</td>\n",
       "    </tr>\n",
       "    <tr>\n",
       "      <th>6838</th>\n",
       "      <td>7289</td>\n",
       "      <td>jasper</td>\n",
       "      <td>None</td>\n",
       "      <td>None</td>\n",
       "      <td>None</td>\n",
       "      <td>Jasper</td>\n",
       "      <td>city</td>\n",
       "      <td>Jasper County</td>\n",
       "    </tr>\n",
       "    <tr>\n",
       "      <th>6839</th>\n",
       "      <td>7290</td>\n",
       "      <td>aiken</td>\n",
       "      <td>None</td>\n",
       "      <td>None</td>\n",
       "      <td>None</td>\n",
       "      <td>Aiken</td>\n",
       "      <td>city</td>\n",
       "      <td>Aiken County</td>\n",
       "    </tr>\n",
       "    <tr>\n",
       "      <th>6840</th>\n",
       "      <td>7291</td>\n",
       "      <td>georgetown</td>\n",
       "      <td>None</td>\n",
       "      <td>None</td>\n",
       "      <td>None</td>\n",
       "      <td>Georgetown</td>\n",
       "      <td></td>\n",
       "      <td>Arlington County</td>\n",
       "    </tr>\n",
       "    <tr>\n",
       "      <th>6841</th>\n",
       "      <td>7293</td>\n",
       "      <td>horry</td>\n",
       "      <td>None</td>\n",
       "      <td>None</td>\n",
       "      <td>None</td>\n",
       "      <td>Horry County</td>\n",
       "      <td>county</td>\n",
       "      <td>Horry County</td>\n",
       "    </tr>\n",
       "    <tr>\n",
       "      <th>6842</th>\n",
       "      <td>7294</td>\n",
       "      <td>georgetown</td>\n",
       "      <td>None</td>\n",
       "      <td>None</td>\n",
       "      <td>None</td>\n",
       "      <td>Georgetown</td>\n",
       "      <td></td>\n",
       "      <td>Arlington County</td>\n",
       "    </tr>\n",
       "    <tr>\n",
       "      <th>6843</th>\n",
       "      <td>7295</td>\n",
       "      <td>beaufort</td>\n",
       "      <td>None</td>\n",
       "      <td>None</td>\n",
       "      <td>None</td>\n",
       "      <td>Beaufort</td>\n",
       "      <td>city</td>\n",
       "      <td>Beaufort County</td>\n",
       "    </tr>\n",
       "    <tr>\n",
       "      <th>6844</th>\n",
       "      <td>7295</td>\n",
       "      <td>hampton</td>\n",
       "      <td>None</td>\n",
       "      <td>None</td>\n",
       "      <td>None</td>\n",
       "      <td>Hampton</td>\n",
       "      <td>city</td>\n",
       "      <td>hampton</td>\n",
       "    </tr>\n",
       "    <tr>\n",
       "      <th>6845</th>\n",
       "      <td>7296</td>\n",
       "      <td>lexington</td>\n",
       "      <td>None</td>\n",
       "      <td>None</td>\n",
       "      <td>None</td>\n",
       "      <td>Lexington</td>\n",
       "      <td>city</td>\n",
       "      <td>Fayette County</td>\n",
       "    </tr>\n",
       "    <tr>\n",
       "      <th>6846</th>\n",
       "      <td>7298</td>\n",
       "      <td>marion</td>\n",
       "      <td>None</td>\n",
       "      <td>None</td>\n",
       "      <td>None</td>\n",
       "      <td>Marion</td>\n",
       "      <td>city</td>\n",
       "      <td>Williamson County</td>\n",
       "    </tr>\n",
       "  </tbody>\n",
       "</table>\n",
       "</div>"
      ],
      "text/plain": [
       "      project_id raw_county_name raw_state_name state_id_fips county_id_fips  \\\n",
       "6837        7288      orangeburg           None          None           None   \n",
       "6838        7289          jasper           None          None           None   \n",
       "6839        7290           aiken           None          None           None   \n",
       "6840        7291      georgetown           None          None           None   \n",
       "6841        7293           horry           None          None           None   \n",
       "6842        7294      georgetown           None          None           None   \n",
       "6843        7295        beaufort           None          None           None   \n",
       "6844        7295         hampton           None          None           None   \n",
       "6845        7296       lexington           None          None           None   \n",
       "6846        7298          marion           None          None           None   \n",
       "\n",
       "     geocoded_locality_name geocoded_locality_type geocoded_containing_county  \n",
       "6837             Orangeburg                   city          Orangeburg County  \n",
       "6838                 Jasper                   city              Jasper County  \n",
       "6839                  Aiken                   city               Aiken County  \n",
       "6840             Georgetown                                  Arlington County  \n",
       "6841           Horry County                 county               Horry County  \n",
       "6842             Georgetown                                  Arlington County  \n",
       "6843               Beaufort                   city            Beaufort County  \n",
       "6844                Hampton                   city                    hampton  \n",
       "6845              Lexington                   city             Fayette County  \n",
       "6846                 Marion                   city          Williamson County  "
      ]
     },
     "execution_count": 196,
     "metadata": {},
     "output_type": "execute_result"
    }
   ],
   "source": [
    "missing_locations[missing_locations.raw_state_name.isna()].head(10)"
   ]
  },
  {
   "cell_type": "markdown",
   "id": "1d7c5b2d-7e6a-485a-8905-5fc28bf566fd",
   "metadata": {},
   "source": [
    "### PK"
   ]
  },
  {
   "cell_type": "code",
   "execution_count": 203,
   "id": "0de801ca-097e-4bf1-a4bf-4d06b16eb5fc",
   "metadata": {},
   "outputs": [
    {
     "data": {
      "text/plain": [
       "project_id  county_id_fips\n",
       "5500        48487             2\n",
       "0           06073             1\n",
       "5258        46007             1\n",
       "5271        29095             1\n",
       "5270        30109             1\n",
       "                             ..\n",
       "2617        39093             1\n",
       "2616        39093             1\n",
       "2615        42111             1\n",
       "2614        42111             1\n",
       "8132        01033             1\n",
       "Length: 7467, dtype: int64"
      ]
     },
     "execution_count": 203,
     "metadata": {},
     "output_type": "execute_result"
    }
   ],
   "source": [
    "iso_locations_2021_pk = iso_locations_2021.dropna(subset=[\"county_id_fips\"])\n",
    "\n",
    "iso_locations_2021_pk[[\"project_id\", \"county_id_fips\"]].value_counts()"
   ]
  },
  {
   "cell_type": "code",
   "execution_count": 205,
   "id": "8d87e8fa-cc81-44e5-94e0-8a2dc24fca36",
   "metadata": {},
   "outputs": [
    {
     "data": {
      "text/html": [
       "<div>\n",
       "<style scoped>\n",
       "    .dataframe tbody tr th:only-of-type {\n",
       "        vertical-align: middle;\n",
       "    }\n",
       "\n",
       "    .dataframe tbody tr th {\n",
       "        vertical-align: top;\n",
       "    }\n",
       "\n",
       "    .dataframe thead th {\n",
       "        text-align: right;\n",
       "    }\n",
       "</style>\n",
       "<table border=\"1\" class=\"dataframe\">\n",
       "  <thead>\n",
       "    <tr style=\"text-align: right;\">\n",
       "      <th></th>\n",
       "      <th>project_id</th>\n",
       "      <th>raw_county_name</th>\n",
       "      <th>raw_state_name</th>\n",
       "      <th>state_id_fips</th>\n",
       "      <th>county_id_fips</th>\n",
       "      <th>geocoded_locality_name</th>\n",
       "      <th>geocoded_locality_type</th>\n",
       "      <th>geocoded_containing_county</th>\n",
       "    </tr>\n",
       "  </thead>\n",
       "  <tbody>\n",
       "    <tr>\n",
       "      <th>5216</th>\n",
       "      <td>5500</td>\n",
       "      <td>vernon</td>\n",
       "      <td>TX</td>\n",
       "      <td>48</td>\n",
       "      <td>48487</td>\n",
       "      <td>Vernon</td>\n",
       "      <td>city</td>\n",
       "      <td>Wilbarger County</td>\n",
       "    </tr>\n",
       "    <tr>\n",
       "      <th>5217</th>\n",
       "      <td>5500</td>\n",
       "      <td>wilbarger</td>\n",
       "      <td>TX</td>\n",
       "      <td>48</td>\n",
       "      <td>48487</td>\n",
       "      <td>wilbarger</td>\n",
       "      <td>county</td>\n",
       "      <td>wilbarger</td>\n",
       "    </tr>\n",
       "  </tbody>\n",
       "</table>\n",
       "</div>"
      ],
      "text/plain": [
       "      project_id raw_county_name raw_state_name state_id_fips county_id_fips  \\\n",
       "5216        5500          vernon             TX            48          48487   \n",
       "5217        5500       wilbarger             TX            48          48487   \n",
       "\n",
       "     geocoded_locality_name geocoded_locality_type geocoded_containing_county  \n",
       "5216                 Vernon                   city           Wilbarger County  \n",
       "5217              wilbarger                 county                  wilbarger  "
      ]
     },
     "execution_count": 205,
     "metadata": {},
     "output_type": "execute_result"
    }
   ],
   "source": [
    "iso_locations_2021_pk.query(\"project_id == 5500 & county_id_fips == '48487'\")"
   ]
  },
  {
   "cell_type": "markdown",
   "id": "e13278c5-4ee9-4777-a67d-cca930f06b52",
   "metadata": {},
   "source": [
    "## EIP Schemas"
   ]
  },
  {
   "cell_type": "code",
   "execution_count": 48,
   "id": "a89dd703-41dd-4763-9e60-3a7e0c5cd101",
   "metadata": {},
   "outputs": [],
   "source": [
    "with sqlite_engine.connect() as conn:\n",
    "    eip_air_constr_permits = pd.read_sql_table(\"eip_air_constr_permits\", conn)\n",
    "    eip_facilities = pd.read_sql_table(\"eip_facilities\", conn)\n",
    "    eip_facility_project_association = pd.read_sql_table(\"eip_facility_project_association\", conn)\n",
    "    eip_project_permit_association = pd.read_sql_table(\"eip_project_permit_association\", conn)\n",
    "    eip_projects = pd.read_sql_table(\"eip_projects\", conn)\n"
   ]
  },
  {
   "cell_type": "code",
   "execution_count": 113,
   "id": "d265ac88-7b74-4d4e-873e-c5895f352c51",
   "metadata": {},
   "outputs": [
    {
     "name": "stdout",
     "output_type": "stream",
     "text": [
      "<class 'pandas.core.frame.DataFrame'>\n",
      "RangeIndex: 871 entries, 0 to 870\n",
      "Data columns (total 2 columns):\n",
      " #   Column               Non-Null Count  Dtype\n",
      "---  ------               --------------  -----\n",
      " 0   air_construction_id  871 non-null    int64\n",
      " 1   project_id           871 non-null    int64\n",
      "dtypes: int64(2)\n",
      "memory usage: 13.7 KB\n"
     ]
    }
   ],
   "source": [
    "eip_project_permit_association.info()"
   ]
  },
  {
   "cell_type": "code",
   "execution_count": 114,
   "id": "d9dbb877-f00c-4d7a-af1e-a00599d7a8b2",
   "metadata": {},
   "outputs": [
    {
     "name": "stdout",
     "output_type": "stream",
     "text": [
      "Column(\"air_construction_id\", Integer),\n",
      "Column(\"project_id\", Integer),\n",
      "\n"
     ]
    }
   ],
   "source": [
    "def dtypes_and_nulls(df):\n",
    "    return pd.concat([df.dtypes, df.isna().any()], axis=1)\n",
    "\n",
    "def convert_to_schema(df):\n",
    "    type_mapping = {\"int64\": \"Integer\", \"float64\": \"Float\", \"object\": \"String\", \"datetime64[ns]\": \"DateTime\"}\n",
    "    \n",
    "    dtypes = dtypes_and_nulls(df)\n",
    "    \n",
    "    final_str = \"\"\n",
    "    \n",
    "    for _, row in dtypes.iterrows():\n",
    "        if row[1]:\n",
    "            final_str += f\"Column(\\\"{row.name}\\\", {type_mapping[str(row[0])]}, nullable=True),\\n\"\n",
    "        else:\n",
    "            final_str += f\"Column(\\\"{row.name}\\\", {type_mapping[str(row[0])]}),\\n\"\n",
    "    print(final_str)\n",
    "\n",
    "convert_to_schema(eip_project_permit_association)"
   ]
  },
  {
   "cell_type": "markdown",
   "id": "5695f000-f573-44e9-b518-f7cccef3530a",
   "metadata": {},
   "source": [
    "## EIP projects fk error"
   ]
  },
  {
   "cell_type": "code",
   "execution_count": 110,
   "id": "e9544372-020a-4021-b647-bba1f54197c6",
   "metadata": {},
   "outputs": [
    {
     "name": "stdout",
     "output_type": "stream",
     "text": [
      "In A not in B: {4549, 5478}\n",
      "\n",
      "In B not in A: {3034, 4234, 2830, 4335, 3033, 4538}\n",
      "\n",
      "In Both: {4103, 4104, 4117, 4118, 4119, 4122, 4124, 4143, 4146, 4147, 4148, 4156, 4161, 4170, 4175, 4176, 4181, 4193, 4206, 4212, 4217, 4232, 4235, 4237, 4240, 4258, 4263, 4264, 2883, 4270, 4274, 4284, 4287, 4303, 4308, 4309, 4311, 4315, 4318, 4319, 4325, 4326, 4330, 4331, 4341, 4344, 4352, 4360, 4366, 4371, 4373, 4388, 4402, 4403, 4470, 4472, 4476, 4477, 4482, 4492, 4494, 4495, 4496, 4497, 4498, 4504, 4512, 4529, 4535, 4537, 4553, 4557, 4560, 4573, 4579, 4593, 4594, 4616, 4621, 4624, 4631, 4634, 4635, 4638, 4645, 4646, 4649, 4650, 2960, 4654, 4657, 4660, 4662, 4672, 4683, 4684, 4690, 4693, 4700, 2970, 4704, 4713, 4716, 4718, 4721, 4722, 4749, 2723, 2724, 2725, 2726, 2727, 2728, 2729, 2730, 2731, 2732, 2733, 2734, 2735, 2736, 2737, 2738, 2739, 2740, 2741, 2742, 2743, 2744, 2745, 2746, 2747, 2748, 2749, 2750, 2751, 2752, 2753, 2754, 2755, 2756, 2757, 2758, 2759, 2760, 2761, 2762, 2763, 2764, 2765, 2766, 2767, 2768, 2769, 2770, 2771, 2772, 2773, 2775, 2776, 2777, 2778, 2779, 2780, 2781, 2782, 2783, 2784, 2785, 2786, 2787, 2788, 2789, 2790, 2791, 2792, 2793, 2794, 2795, 2796, 2797, 2798, 2799, 2800, 2801, 2802, 2803, 2804, 2805, 2806, 2807, 2808, 2809, 2810, 2811, 2812, 2813, 2814, 2815, 2816, 2817, 2818, 2819, 2820, 2821, 2822, 2823, 2824, 2825, 2826, 2827, 2828, 2829, 2831, 2832, 2833, 2834, 2835, 2836, 4885, 2837, 2838, 4888, 2840, 2841, 2842, 2844, 2839, 2846, 2847, 4896, 2848, 2850, 2849, 2851, 2852, 4902, 2853, 2854, 2857, 2858, 2859, 2855, 2856, 2860, 2861, 2862, 2865, 2863, 2864, 2868, 2869, 2870, 2871, 2872, 2873, 2874, 4923, 2875, 2876, 2877, 2878, 2879, 2880, 2881, 2882, 2884, 2885, 2886, 2887, 2888, 2889, 2890, 4939, 2892, 2891, 2893, 2894, 2896, 2895, 2897, 2898, 2899, 2900, 2901, 2903, 2902, 2904, 2905, 2906, 2908, 2910, 2911, 4960, 2912, 2913, 4963, 2914, 2915, 2916, 2917, 4968, 2918, 2919, 2920, 4972, 2921, 2922, 2923, 4976, 2924, 2925, 4979, 2926, 4981, 2927, 2928, 2929, 2930, 2931, 2932, 2933, 2934, 2935, 2936, 2937, 2938, 2939, 2940, 2941, 2942, 2943, 2944, 2945, 2946, 2947, 2948, 2950, 5005, 2951, 5007, 2952, 5009, 2953, 2954, 2955, 2956, 2957, 2958, 2959, 5017, 2961, 2962, 2963, 2964, 2965, 2966, 2967, 2968, 2969, 5027, 2971, 2972, 2973, 2974, 2975, 2976, 2977, 2978, 2979, 2980, 2981, 2982, 2983, 2984, 2985, 2986, 2987, 2988, 2989, 2990, 2991, 2992, 2993, 2994, 2995, 2996, 2997, 2998, 2999, 3000, 3001, 5059, 3003, 3004, 5062, 3006, 3007, 3008, 3009, 3011, 3012, 3013, 3014, 3015, 3016, 3017, 3018, 3019, 3020, 3021, 3022, 3023, 3024, 3025, 3026, 3027, 3028, 3029, 3030, 3031, 3032, 5082, 3035, 3036, 3037, 3038, 3039, 3040, 3041, 3042, 3043, 3044, 3045, 3046, 3047, 3048, 3049, 3050, 3051, 3052, 3053, 3054, 3055, 3056, 3057, 3058, 3059, 3060, 3061, 3062, 3063, 3064, 3065, 3066, 3067, 3068, 3069, 3070, 3071, 3072, 3073, 3074, 3075, 3076, 3077, 3078, 3079, 3080, 3081, 3082, 3083, 3084, 3085, 3086, 3087, 3088, 3089, 3090, 3091, 3092, 3093, 3094, 3095, 3096, 3097, 3098, 3099, 3100, 3101, 3102, 3103, 3104, 3105, 3106, 3107, 3108, 3109, 3110, 3111, 3112, 3113, 3114, 3115, 3116, 3117, 3118, 3119, 3120, 3121, 3122, 3123, 3124, 3125, 3126, 3127, 3128, 3130, 3131, 3132, 3133, 3134, 3135, 3136, 3137, 3138, 3139, 3140, 3141, 3143, 3144, 3145, 3146, 3147, 3148, 3149, 3150, 3151, 3152, 3153, 3154, 3155, 3156, 3157, 3158, 3159, 3160, 3161, 3162, 5209, 5227, 5230, 5234, 5240, 5246, 5253, 5258, 3215, 3216, 5264, 5267, 5269, 3222, 5273, 5278, 3231, 5120, 5285, 5291, 5296, 5297, 5298, 5302, 5304, 5311, 5316, 5318, 5319, 5321, 5326, 5332, 5338, 5349, 5352, 5356, 5357, 5361, 5364, 5368, 5371, 5372, 5373, 5377, 5378, 5380, 5382, 5383, 5384, 5385, 5389, 5395, 5143, 5402, 5403, 5404, 5409, 5146, 5412, 5417, 5419, 5427, 3380, 5428, 5431, 5434, 5151, 5436, 5437, 5443, 3397, 5451, 5453, 5456, 5458, 5460, 5471, 5475, 5480, 5481, 5482, 5487, 5490, 5492, 5495, 5163, 5498, 5502, 4772, 5181, 5184, 3566, 3573, 3579, 5189, 3591, 3608, 3611, 3612, 4790, 3626, 5199, 5203, 3651, 3659, 3663, 3664, 5206, 3665, 5030, 3673, 3674, 3677, 3678, 3687, 3718, 3719, 3728, 3737, 3746, 3761, 3763, 5035, 4829, 4834, 3002, 4841, 4844, 4845, 3907, 3908, 3909, 3910, 3911, 3912, 3913, 3914, 3915, 4847, 3917, 3005, 3918, 3919, 3920, 3921, 3922, 3923, 3924, 3925, 3926, 3927, 3928, 3929, 3930, 3931, 3932, 3933, 3934, 3935, 3936, 3937, 3938, 3939, 3941, 3943, 3944, 3945, 3946, 3947, 3948, 3949, 3950, 3952, 3953, 3954, 3955, 3956, 3957, 3958, 3959, 3960, 3961, 3962, 3963, 3964, 3965, 3966, 3967, 3968, 3969, 3970, 4858, 3973, 3974, 3975, 3976, 3977, 3978, 3979, 3982, 3987, 3988, 3989, 3990, 4867, 4033, 4034, 4038, 4041, 4053, 4057, 2843, 4067, 4071, 4880, 2845, 4091}\n",
      "\n"
     ]
    }
   ],
   "source": [
    "diff_lists(eip_projects.project_id, eip_facility_project_association.project_id)"
   ]
  },
  {
   "cell_type": "code",
   "execution_count": 111,
   "id": "78725869-acf2-4e49-a5ff-20ad815e9a5e",
   "metadata": {},
   "outputs": [
    {
     "name": "stdout",
     "output_type": "stream",
     "text": [
      "In A not in B: {5217, 5474, 5032, 4362, 3628}\n",
      "\n",
      "In B not in A: set()\n",
      "\n",
      "In Both: {4106, 4108, 4114, 4115, 4116, 4120, 5080, 4138, 4139, 4141, 4142, 4144, 4166, 4174, 4178, 4204, 4210, 4238, 4268, 4272, 4283, 4291, 4301, 4316, 4321, 4323, 4334, 4340, 4342, 4347, 4348, 865, 4357, 4364, 4369, 4386, 4397, 4398, 4399, 887, 4471, 4475, 4478, 4480, 4484, 4485, 4486, 4487, 4490, 4493, 4501, 4527, 901, 4536, 4552, 4556, 4559, 4577, 911, 915, 4615, 4623, 4643, 4647, 4653, 4655, 4659, 4661, 4667, 4682, 4689, 4692, 4698, 4705, 4710, 4711, 4771, 4788, 4827, 4832, 739, 740, 741, 742, 743, 744, 745, 746, 747, 748, 749, 750, 751, 752, 753, 754, 755, 756, 757, 758, 759, 760, 761, 762, 763, 764, 765, 766, 767, 768, 769, 770, 771, 772, 773, 774, 775, 776, 777, 778, 779, 780, 781, 782, 783, 785, 786, 787, 788, 789, 790, 4887, 791, 792, 793, 794, 795, 797, 798, 799, 800, 801, 802, 803, 796, 4901, 804, 807, 808, 809, 810, 811, 812, 813, 814, 815, 816, 817, 818, 819, 820, 821, 822, 823, 824, 4921, 825, 826, 827, 828, 829, 830, 831, 832, 833, 834, 835, 836, 837, 838, 839, 840, 841, 842, 843, 844, 845, 846, 847, 848, 849, 850, 851, 852, 854, 853, 855, 856, 857, 858, 859, 861, 860, 862, 863, 864, 866, 867, 868, 4961, 4966, 870, 871, 872, 4970, 873, 874, 877, 878, 875, 876, 4977, 882, 879, 880, 885, 4982, 881, 888, 883, 884, 886, 889, 890, 891, 892, 893, 894, 898, 895, 896, 897, 902, 903, 904, 899, 900, 907, 5004, 908, 909, 905, 912, 913, 914, 910, 916, 917, 918, 919, 5016, 921, 920, 922, 924, 925, 923, 926, 927, 928, 929, 931, 930, 5029, 934, 932, 936, 933, 935, 937, 938, 941, 939, 943, 940, 942, 944, 946, 947, 948, 949, 950, 951, 952, 953, 954, 955, 956, 957, 959, 958, 961, 960, 963, 5060, 962, 964, 965, 966, 967, 5057, 969, 970, 971, 972, 973, 974, 975, 976, 977, 978, 979, 980, 981, 982, 983, 984, 985, 986, 987, 988, 989, 990, 991, 994, 995, 996, 997, 998, 999, 1000, 1001, 1002, 1004, 1005, 1006, 1007, 1008, 1009, 1010, 1011, 1012, 1013, 1014, 1015, 1016, 1017, 1018, 1019, 1020, 1021, 1022, 1023, 1024, 1025, 1026, 1027, 1028, 1029, 1030, 1031, 1032, 1033, 1034, 1035, 1036, 1037, 1038, 1039, 1040, 1041, 1042, 1043, 1044, 1045, 1046, 1047, 1048, 1049, 1050, 1051, 1052, 1053, 1054, 1055, 1056, 1057, 1058, 1059, 1060, 1061, 1062, 1063, 1064, 1065, 1066, 1067, 1068, 1069, 1070, 1071, 1072, 1073, 1074, 1075, 1076, 1077, 1078, 1079, 1080, 1081, 1082, 1083, 1084, 1085, 1086, 1087, 1088, 1089, 1090, 1091, 1092, 5180, 1094, 1095, 1096, 1097, 1098, 1099, 1100, 1101, 1102, 5198, 1104, 1105, 1106, 1107, 1108, 1109, 1110, 1111, 5205, 1113, 1114, 1115, 1116, 1117, 1118, 1119, 1120, 1121, 1122, 1123, 1124, 1125, 1126, 1127, 1128, 1129, 1130, 1131, 1132, 5224, 5233, 5238, 5244, 5257, 5117, 5272, 5277, 3230, 5284, 3252, 5303, 5313, 5314, 5315, 5324, 5331, 5336, 5348, 5351, 5363, 5367, 5379, 5381, 5388, 5142, 5393, 5400, 5410, 5411, 5425, 3381, 5150, 5435, 5441, 5455, 5155, 5461, 5156, 5469, 5476, 5479, 5483, 5485, 5489, 5494, 5496, 5500, 5182, 3564, 3576, 3598, 3605, 3667, 3672, 5208, 3683, 3726, 3735, 3736, 3739, 3743, 3752, 3754, 3773, 3775, 3776, 3777, 3778, 3779, 3780, 3781, 3782, 3783, 3784, 3785, 3786, 3787, 3788, 3789, 3790, 3791, 3792, 3793, 3795, 3797, 3798, 3799, 3800, 3801, 3802, 3803, 3804, 3805, 3806, 3807, 3808, 3810, 3811, 3812, 3813, 3814, 3815, 3816, 3817, 3818, 3819, 3820, 3821, 3822, 3823, 3824, 3825, 3826, 3827, 3828, 3829, 3830, 3831, 3832, 3833, 3834, 3835, 3836, 3839, 3840, 3841, 3842, 3843, 3844, 3846, 4840, 4842, 4843, 4857, 3980, 3992, 4866, 4035, 805, 4052, 4055, 806, 4069, 4883}\n",
      "\n"
     ]
    }
   ],
   "source": [
    "diff_lists(eip_facilities.facility_id, eip_facility_project_association.facility_id)"
   ]
  },
  {
   "cell_type": "markdown",
   "id": "0db6ccaf-bc0e-4698-8f1b-98b30eaa482c",
   "metadata": {},
   "source": [
    "### eip_project_permit_association fk  errors"
   ]
  },
  {
   "cell_type": "code",
   "execution_count": 115,
   "id": "742cf909-01a7-46f3-b3b7-33c95bf5fe8b",
   "metadata": {},
   "outputs": [
    {
     "name": "stdout",
     "output_type": "stream",
     "text": [
      "In A not in B: {5120, 3079, 5146, 3611, 3612, 5151, 3109, 4649, 4650, 5163, 4654, 3118, 3119, 4146, 3122, 4660, 5181, 3651, 4170, 3146, 5199, 5203, 5206, 5209, 3673, 3674, 4700, 4193, 5227, 5234, 5240, 5264, 5267, 5269, 5273, 3737, 5278, 4258, 4772, 4264, 4270, 5296, 5297, 4274, 5298, 2741, 5302, 2743, 5304, 5311, 5318, 5319, 2760, 5326, 4308, 4311, 5338, 4315, 4829, 4834, 5349, 5352, 4841, 2796, 5356, 5357, 4844, 4845, 5364, 4344, 5368, 5371, 5372, 5373, 5377, 5378, 4867, 2820, 5380, 5382, 5383, 2824, 5384, 5385, 2828, 2834, 5395, 5402, 5409, 4388, 5412, 5417, 5419, 5427, 2868, 5431, 5434, 3908, 3910, 3911, 3912, 3913, 3918, 3919, 5456, 3920, 5458, 3921, 2900, 5460, 3922, 3923, 3924, 3925, 3928, 3929, 3932, 3934, 2911, 5471, 3936, 4963, 5475, 3939, 5478, 3941, 4968, 5480, 5481, 5482, 3944, 3945, 2926, 5487, 3946, 3947, 5490, 4979, 5492, 3948, 4470, 5495, 3955, 3956, 5498, 3957, 4476, 3960, 3961, 3964, 3966, 3968, 3970, 3974, 3975, 3976, 3977, 3978, 3979, 4492, 5005, 4494, 4495, 4496, 4497, 4498, 5007, 5009, 2956, 4504, 2971, 3949, 3950, 5027, 5030, 5035, 2999, 4537, 5059, 5062, 3028, 5082, 3039, 3041, 3063}\n",
      "\n",
      "In B not in A: {4234}\n",
      "\n",
      "In Both: {4103, 4104, 4117, 4118, 4119, 4122, 4124, 4143, 4147, 4148, 4156, 4161, 4175, 4176, 4181, 4206, 4212, 4217, 4232, 4235, 4237, 4240, 4263, 4284, 4287, 4303, 4309, 4318, 4319, 4325, 4326, 4330, 4331, 4341, 4352, 4360, 4366, 4939, 4371, 4373, 4402, 4403, 4472, 4477, 4482, 4512, 4529, 4535, 2937, 4549, 4553, 4557, 4560, 4573, 4579, 4981, 4593, 4594, 4616, 4621, 4624, 4631, 4634, 4635, 4638, 4645, 4646, 4657, 4662, 4672, 4683, 4684, 4690, 4693, 4704, 4713, 4716, 4718, 4721, 4722, 4749, 2723, 2724, 2725, 2726, 2727, 2728, 2729, 2730, 2731, 2732, 2733, 2734, 2735, 2736, 2737, 2738, 2739, 2740, 2742, 4790, 2744, 2745, 2746, 2747, 2748, 2749, 2750, 2751, 2752, 2753, 2754, 2755, 2756, 2757, 2758, 2759, 2761, 2762, 2763, 2764, 2765, 2766, 2767, 2768, 2769, 2770, 2771, 2772, 2773, 2775, 2776, 2777, 2778, 2779, 2780, 2781, 2782, 2783, 2784, 2785, 2786, 2787, 2788, 2789, 2790, 2791, 2792, 2793, 2794, 2795, 2797, 2798, 4847, 2799, 2801, 2802, 2803, 2804, 2805, 2806, 2807, 2808, 2809, 2810, 2811, 2812, 2813, 2814, 2815, 2816, 2817, 2818, 2819, 2821, 2822, 2823, 2825, 2826, 2827, 2829, 2831, 2832, 2833, 4880, 2835, 2836, 4885, 2837, 2838, 4888, 2839, 2840, 2841, 2842, 2843, 2844, 2846, 4896, 2847, 2848, 2849, 2850, 2851, 4902, 2852, 2853, 2857, 2858, 2854, 2855, 2856, 2859, 2860, 2861, 2862, 2863, 2864, 2865, 2869, 2870, 2871, 2872, 2873, 2874, 4923, 2875, 2876, 2877, 2878, 2879, 2880, 2881, 2882, 2883, 2884, 2885, 2886, 2887, 2888, 2889, 2890, 2891, 2892, 2893, 2894, 2895, 2896, 2897, 2898, 2899, 2901, 2902, 2903, 2904, 2905, 2906, 2908, 2910, 4960, 2912, 2913, 2914, 2915, 2916, 2917, 2918, 2919, 2920, 2921, 2922, 2923, 2924, 2925, 4972, 4976, 2927, 2928, 2929, 2930, 2931, 2932, 2933, 2934, 2935, 2936, 2938, 2939, 2940, 2941, 2943, 2944, 2945, 2946, 2947, 2948, 2942, 2950, 2951, 2952, 2953, 2954, 2955, 2957, 2958, 2959, 2960, 2961, 2962, 2963, 2964, 2965, 2966, 2967, 2968, 2969, 2970, 5017, 2972, 2973, 2974, 2975, 2976, 2977, 2978, 2979, 2980, 2981, 2982, 2983, 2984, 2985, 2986, 2987, 2988, 2989, 2990, 2991, 2992, 2993, 2994, 2995, 2996, 2997, 2998, 3000, 3001, 3002, 3003, 3004, 3005, 3006, 3007, 3008, 3009, 3011, 3012, 3013, 3014, 3015, 3016, 3017, 3018, 3019, 3020, 3021, 3022, 3023, 3024, 3025, 3026, 3027, 3029, 3030, 3031, 3032, 3035, 3036, 3037, 3038, 3040, 3042, 3043, 3044, 3045, 3046, 3047, 3048, 3049, 3050, 3051, 3052, 3053, 3054, 3055, 3056, 3057, 3058, 3059, 3060, 3061, 3062, 3064, 3065, 3066, 3067, 3068, 3069, 3070, 3071, 3072, 3073, 3074, 3075, 3076, 3077, 3078, 3080, 3081, 3082, 3083, 3084, 3085, 3086, 3087, 3088, 3089, 3090, 3091, 3092, 3093, 3094, 3095, 3096, 3097, 3098, 3099, 3100, 3101, 3102, 3103, 3104, 3105, 3106, 3107, 3108, 3110, 3111, 3112, 3113, 3114, 3115, 3116, 3117, 3120, 3121, 3123, 3124, 3125, 3126, 3127, 3128, 3130, 3131, 3132, 3133, 3134, 3135, 3136, 3137, 3138, 3139, 3140, 3141, 5184, 3143, 3144, 3145, 5189, 3147, 3148, 3149, 3150, 3151, 3152, 3153, 3154, 3155, 3156, 3157, 3158, 3159, 3160, 3161, 3162, 5230, 5246, 5253, 5258, 3215, 3216, 3222, 3231, 5285, 5291, 5316, 5321, 5332, 5361, 5389, 5143, 5403, 5404, 3380, 5428, 5436, 5437, 5443, 3397, 5451, 5453, 5502, 3566, 3573, 3579, 3591, 3608, 3626, 3659, 3663, 3664, 3665, 3677, 3678, 3687, 3718, 3719, 3728, 3746, 3761, 3763, 2800, 3907, 3909, 3914, 3915, 3917, 3926, 3927, 3930, 3931, 3933, 3935, 3937, 3938, 3943, 3952, 3953, 3954, 3958, 3959, 3962, 4858, 3963, 3965, 3967, 3969, 3973, 3982, 3987, 3988, 3989, 3990, 4033, 4034, 4038, 4041, 4053, 4057, 4067, 4071, 2845, 4091}\n",
      "\n"
     ]
    }
   ],
   "source": [
    "diff_lists(eip_projects.project_id, eip_project_permit_association.project_id)"
   ]
  },
  {
   "cell_type": "code",
   "execution_count": 116,
   "id": "3b767154-5b1f-4dde-b2d0-79c3dfc85faf",
   "metadata": {},
   "outputs": [
    {
     "name": "stdout",
     "output_type": "stream",
     "text": [
      "In A not in B: {3169, 3170, 2023, 4874, 5259, 2412, 4878, 1646, 1872, 4913, 1873, 1874, 1876, 1813, 4062, 3256, 1918, 2271}\n",
      "\n",
      "In B not in A: {2184, 1901, 1903, 3631, 1905, 4376, 2045}\n",
      "\n",
      "In Both: {2048, 2049, 2050, 2051, 2052, 2053, 2054, 2055, 4096, 2057, 2058, 2059, 2060, 2061, 2062, 2063, 2064, 2065, 4109, 4112, 2068, 2072, 2040, 4123, 2076, 2077, 2078, 2079, 2080, 2081, 2082, 2083, 2084, 2085, 2086, 4126, 2088, 4129, 2090, 2091, 4131, 2093, 2094, 2095, 4136, 4137, 2098, 2099, 2100, 4149, 2102, 2103, 2105, 4153, 2108, 4157, 2110, 2112, 2113, 4162, 2115, 2117, 2122, 2124, 2128, 2129, 2131, 2132, 2133, 2136, 2137, 2138, 2141, 4189, 4190, 2144, 4191, 4194, 2147, 2148, 2149, 2150, 2151, 2152, 2153, 2154, 4201, 2156, 2157, 2158, 4202, 2160, 4203, 4205, 2163, 2164, 2165, 2166, 2167, 2168, 2169, 2170, 2171, 2172, 4213, 2174, 2175, 4215, 4220, 4223, 2179, 2180, 2181, 2182, 2183, 4224, 2185, 2186, 2187, 2188, 2189, 2190, 2191, 2192, 2193, 2194, 2195, 2196, 2197, 2198, 2199, 2200, 4242, 2202, 2203, 2204, 2205, 2206, 2207, 2208, 2209, 2210, 2211, 2212, 2213, 4102, 2215, 2216, 4257, 2218, 4265, 2220, 4266, 2222, 2042, 2224, 2225, 2228, 4276, 2230, 2231, 2232, 2233, 2234, 2235, 2236, 2237, 2238, 2239, 4285, 2241, 2242, 2243, 4288, 2245, 2246, 2247, 4290, 2250, 2251, 2256, 4304, 2258, 2259, 4305, 4307, 4310, 2263, 4312, 2265, 2266, 2267, 2268, 2269, 4313, 4314, 2272, 2273, 2274, 4320, 2277, 2278, 2280, 4328, 4329, 2283, 2284, 4332, 2286, 4333, 2288, 2289, 2290, 2291, 2292, 2293, 2294, 2295, 2296, 2297, 2298, 2299, 4345, 2301, 2302, 2303, 2304, 2305, 2306, 2307, 2308, 2309, 4353, 2311, 2312, 2313, 2314, 4361, 2316, 2317, 2318, 2319, 2320, 2321, 2322, 2323, 2324, 2325, 2326, 2327, 2328, 2329, 2330, 2331, 4127, 2333, 4375, 4377, 4380, 2337, 2338, 2339, 2340, 2341, 2342, 2345, 4130, 2349, 2351, 2352, 2353, 2356, 2357, 2359, 2360, 2361, 2362, 2364, 2365, 2366, 2367, 2372, 2373, 2376, 2379, 2381, 2383, 2388, 2389, 2390, 2396, 2397, 2398, 2399, 2400, 2404, 2405, 2407, 2410, 2413, 2415, 2419, 2420, 2421, 2422, 2423, 2424, 4473, 4474, 2427, 2428, 2429, 2430, 4479, 2432, 2433, 2434, 2435, 2436, 2437, 2438, 2439, 2440, 2441, 2442, 2443, 2444, 2445, 4499, 4500, 4510, 4511, 4516, 4518, 4519, 4520, 4521, 4522, 4533, 4540, 4550, 4554, 4555, 4558, 4570, 4581, 4582, 4585, 4595, 4609, 4610, 4614, 4617, 4622, 4633, 4639, 4640, 4641, 4658, 4664, 4665, 4666, 4668, 4669, 4673, 4685, 4686, 4687, 4688, 4691, 4694, 4695, 4702, 4703, 4707, 4708, 4714, 4717, 4719, 4723, 4724, 4725, 4738, 4742, 4743, 4744, 4747, 4750, 4756, 4759, 4774, 4207, 4208, 4209, 4214, 4483, 4824, 4826, 4831, 4852, 4856, 4860, 4861, 4862, 4863, 4869, 4875, 4877, 4881, 4886, 4228, 4890, 4895, 4233, 4924, 4940, 4959, 4243, 4244, 4973, 4980, 4984, 4989, 5001, 4253, 5018, 4254, 5046, 5084, 5121, 5122, 4277, 5137, 4278, 5144, 5186, 5188, 5190, 5197, 5231, 5237, 5247, 5248, 5254, 5260, 3232, 5283, 3238, 3239, 3240, 3241, 5286, 5292, 3251, 5300, 3254, 5308, 5317, 5328, 5330, 5334, 5335, 5358, 5359, 5360, 5366, 5391, 5392, 5397, 5398, 5405, 5418, 5420, 5421, 3379, 5429, 3382, 5444, 5445, 5447, 5450, 3404, 5452, 5454, 3414, 5501, 5503, 4367, 4368, 4372, 3569, 3570, 3571, 3574, 3577, 3580, 3593, 3594, 3596, 3603, 3604, 3620, 1573, 1574, 1575, 3624, 1578, 3627, 1581, 1591, 1592, 1593, 1595, 1597, 1599, 1601, 1602, 3649, 3650, 1605, 1606, 1608, 1609, 1612, 3662, 1615, 1616, 1617, 1618, 1619, 1620, 1621, 1622, 1623, 1624, 1625, 3666, 1627, 1628, 1629, 3670, 3671, 1632, 3676, 3679, 3684, 1637, 1638, 1639, 1640, 1641, 1642, 3685, 1644, 1647, 1648, 1649, 1650, 1651, 1653, 1654, 1655, 1656, 1657, 1658, 1659, 1660, 1661, 1662, 1663, 1664, 1665, 1666, 1667, 1668, 1669, 1671, 1672, 1673, 1674, 1675, 1676, 1678, 1679, 1680, 3729, 1681, 1682, 1683, 1684, 1685, 1686, 1687, 1688, 1689, 1690, 1691, 1692, 1693, 1694, 1695, 1696, 1697, 1698, 1699, 1700, 1701, 1702, 1703, 3747, 1705, 1706, 1708, 1709, 1710, 1712, 1713, 1714, 1715, 1716, 1717, 3762, 3765, 1720, 3766, 3767, 1723, 1724, 1725, 1726, 1727, 1728, 1729, 1731, 1733, 1735, 1739, 1740, 1741, 1742, 1743, 1744, 1750, 1751, 1752, 1753, 1755, 1759, 1760, 1761, 1763, 1765, 1769, 1770, 1771, 1772, 1773, 1774, 1775, 1776, 1777, 1778, 1779, 1780, 1781, 1782, 1783, 1784, 1785, 1787, 1788, 1789, 1791, 1792, 1793, 1794, 1795, 1796, 1798, 1799, 1800, 1802, 1805, 1806, 1808, 1809, 1810, 1811, 1814, 1816, 1818, 1819, 1820, 1821, 1822, 1823, 1824, 1825, 1826, 1827, 1828, 1829, 1831, 1832, 1833, 1834, 1835, 1836, 1838, 1839, 1843, 1844, 1845, 1846, 1848, 1853, 1854, 1855, 1856, 1858, 1859, 1860, 1865, 1866, 1867, 1869, 1870, 1871, 1875, 1877, 1878, 1880, 1881, 1882, 1883, 1885, 1886, 1887, 1890, 1891, 1892, 1893, 1894, 1895, 1898, 1899, 1900, 1902, 1904, 1906, 1907, 1908, 1909, 1910, 1911, 1912, 1913, 1914, 1915, 1916, 1917, 1921, 1922, 1923, 1925, 1926, 1927, 1928, 1929, 1931, 1932, 1933, 1934, 3984, 1937, 1939, 1940, 1941, 1942, 1944, 1947, 1948, 1949, 1950, 1951, 1952, 1953, 1954, 1955, 1956, 1957, 1962, 1965, 1966, 1968, 1970, 1972, 1973, 1974, 1975, 1976, 1977, 1979, 1980, 1984, 1985, 1986, 1987, 1988, 1989, 1990, 4039, 4040, 1994, 4043, 1995, 1996, 1997, 1998, 1999, 2000, 2001, 2002, 2003, 2004, 2005, 4047, 4048, 4054, 2009, 4058, 4059, 2012, 2014, 2015, 4064, 2017, 2018, 2019, 2020, 4066, 2022, 4068, 2024, 2025, 2026, 2027, 2030, 2031, 2032, 2033, 4082, 2037, 2038, 2039, 4088, 2041, 4090, 2043, 2044, 2046}\n",
      "\n"
     ]
    }
   ],
   "source": [
    "diff_lists(eip_air_constr_permits.air_construction_id, eip_project_permit_association.air_construction_id)"
   ]
  },
  {
   "cell_type": "markdown",
   "id": "f1fcfa67-8b78-4b23-a979-bed188045584",
   "metadata": {},
   "source": [
    "##  RELDI Local Opposition"
   ]
  },
  {
   "cell_type": "code",
   "execution_count": 148,
   "id": "51845451-d28a-4209-9089-30dfcbf070c8",
   "metadata": {},
   "outputs": [
    {
     "data": {
      "text/html": [
       "<div>\n",
       "<style scoped>\n",
       "    .dataframe tbody tr th:only-of-type {\n",
       "        vertical-align: middle;\n",
       "    }\n",
       "\n",
       "    .dataframe tbody tr th {\n",
       "        vertical-align: top;\n",
       "    }\n",
       "\n",
       "    .dataframe thead th {\n",
       "        text-align: right;\n",
       "    }\n",
       "</style>\n",
       "<table border=\"1\" class=\"dataframe\">\n",
       "  <thead>\n",
       "    <tr style=\"text-align: right;\">\n",
       "      <th></th>\n",
       "      <th>raw_state_name</th>\n",
       "      <th>project_name</th>\n",
       "      <th>description</th>\n",
       "      <th>locality</th>\n",
       "      <th>year_enacted</th>\n",
       "      <th>energy_type</th>\n",
       "      <th>source</th>\n",
       "      <th>state_id_fips</th>\n",
       "      <th>earliest_year_mentioned</th>\n",
       "      <th>latest_year_mentioned</th>\n",
       "      <th>n_years_mentioned</th>\n",
       "    </tr>\n",
       "  </thead>\n",
       "  <tbody>\n",
       "    <tr>\n",
       "      <th>0</th>\n",
       "      <td>Alabama</td>\n",
       "      <td>Shinbone Ridge Wind</td>\n",
       "      <td>32 local property owners sued Pioneer Green En...</td>\n",
       "      <td>None</td>\n",
       "      <td>NaN</td>\n",
       "      <td>None</td>\n",
       "      <td>None</td>\n",
       "      <td>01</td>\n",
       "      <td>2019.0</td>\n",
       "      <td>NaN</td>\n",
       "      <td>1</td>\n",
       "    </tr>\n",
       "    <tr>\n",
       "      <th>1</th>\n",
       "      <td>Alabama</td>\n",
       "      <td>Noccalula Wind</td>\n",
       "      <td>A civil lawsuit filed by property owners in th...</td>\n",
       "      <td>None</td>\n",
       "      <td>NaN</td>\n",
       "      <td>None</td>\n",
       "      <td>None</td>\n",
       "      <td>01</td>\n",
       "      <td>2014.0</td>\n",
       "      <td>NaN</td>\n",
       "      <td>1</td>\n",
       "    </tr>\n",
       "    <tr>\n",
       "      <th>2</th>\n",
       "      <td>Alabama</td>\n",
       "      <td>Turkey Heaven Mountain Wind</td>\n",
       "      <td>In October 2015, Cleburne County commissioners...</td>\n",
       "      <td>None</td>\n",
       "      <td>NaN</td>\n",
       "      <td>None</td>\n",
       "      <td>None</td>\n",
       "      <td>01</td>\n",
       "      <td>2015.0</td>\n",
       "      <td>NaN</td>\n",
       "      <td>1</td>\n",
       "    </tr>\n",
       "    <tr>\n",
       "      <th>3</th>\n",
       "      <td>Alaska</td>\n",
       "      <td>Eva Creek Wind</td>\n",
       "      <td>This 24-MW wind farm was successfully construc...</td>\n",
       "      <td>None</td>\n",
       "      <td>NaN</td>\n",
       "      <td>None</td>\n",
       "      <td>None</td>\n",
       "      <td>02</td>\n",
       "      <td>2012.0</td>\n",
       "      <td>NaN</td>\n",
       "      <td>1</td>\n",
       "    </tr>\n",
       "    <tr>\n",
       "      <th>4</th>\n",
       "      <td>Arizona</td>\n",
       "      <td>Sterling Solar</td>\n",
       "      <td>The 1200-MW Sterling Solar project in Mohave C...</td>\n",
       "      <td>None</td>\n",
       "      <td>NaN</td>\n",
       "      <td>None</td>\n",
       "      <td>None</td>\n",
       "      <td>04</td>\n",
       "      <td>2020.0</td>\n",
       "      <td>NaN</td>\n",
       "      <td>1</td>\n",
       "    </tr>\n",
       "  </tbody>\n",
       "</table>\n",
       "</div>"
      ],
      "text/plain": [
       "  raw_state_name                 project_name  \\\n",
       "0        Alabama          Shinbone Ridge Wind   \n",
       "1        Alabama               Noccalula Wind   \n",
       "2        Alabama  Turkey Heaven Mountain Wind   \n",
       "3         Alaska               Eva Creek Wind   \n",
       "4        Arizona               Sterling Solar   \n",
       "\n",
       "                                         description locality  year_enacted  \\\n",
       "0  32 local property owners sued Pioneer Green En...     None           NaN   \n",
       "1  A civil lawsuit filed by property owners in th...     None           NaN   \n",
       "2  In October 2015, Cleburne County commissioners...     None           NaN   \n",
       "3  This 24-MW wind farm was successfully construc...     None           NaN   \n",
       "4  The 1200-MW Sterling Solar project in Mohave C...     None           NaN   \n",
       "\n",
       "  energy_type source state_id_fips  earliest_year_mentioned  \\\n",
       "0        None   None            01                   2019.0   \n",
       "1        None   None            01                   2014.0   \n",
       "2        None   None            01                   2015.0   \n",
       "3        None   None            02                   2012.0   \n",
       "4        None   None            04                   2020.0   \n",
       "\n",
       "   latest_year_mentioned  n_years_mentioned  \n",
       "0                    NaN                  1  \n",
       "1                    NaN                  1  \n",
       "2                    NaN                  1  \n",
       "3                    NaN                  1  \n",
       "4                    NaN                  1  "
      ]
     },
     "metadata": {},
     "output_type": "display_data"
    }
   ],
   "source": [
    "with sqlite_engine.connect() as conn:\n",
    "    state_policy = pd.read_sql_table(\"state_policy\", conn)\n",
    "    local_ordinance = pd.read_sql_table(\"local_ordinance\", conn)\n",
    "    contested_project = pd.read_sql_table(\"contested_project\", conn)\n",
    "\n",
    "# display(state_policy)\n",
    "# display(local_ordinance.head())\n",
    "display(contested_project.head())"
   ]
  },
  {
   "cell_type": "code",
   "execution_count": 149,
   "id": "82ad00c0-fc70-4d68-ae0e-6e149b650942",
   "metadata": {},
   "outputs": [
    {
     "data": {
      "text/plain": [
       "Wind Catcher Project            3\n",
       "                                2\n",
       "Brady Wind Farm                 1\n",
       "Eden Renewables, Duanesburg     1\n",
       "South Fork Wind Farm            1\n",
       "                               ..\n",
       "Skipjack                        1\n",
       "Dan's Mountain Wind Farm        1\n",
       "Washington County Solar Farm    1\n",
       "Bay State Wind                  1\n",
       "Pioneer Wind Parks I and II     1\n",
       "Name: project_name, Length: 159, dtype: int64"
      ]
     },
     "execution_count": 149,
     "metadata": {},
     "output_type": "execute_result"
    }
   ],
   "source": [
    "contested_project.project_name.value_counts()"
   ]
  },
  {
   "cell_type": "code",
   "execution_count": 153,
   "id": "8e8ff331-db13-404a-9bdf-8a2017abe0af",
   "metadata": {},
   "outputs": [
    {
     "data": {
      "text/plain": [
       "False    162\n",
       "True      48\n",
       "Name: project_name, dtype: int64"
      ]
     },
     "execution_count": 153,
     "metadata": {},
     "output_type": "execute_result"
    }
   ],
   "source": [
    "contested_project.project_name.isna().value_counts()"
   ]
  },
  {
   "cell_type": "code",
   "execution_count": 155,
   "id": "529a5e46-1151-40d6-800d-01420fad468f",
   "metadata": {},
   "outputs": [
    {
     "data": {
      "text/html": [
       "<div>\n",
       "<style scoped>\n",
       "    .dataframe tbody tr th:only-of-type {\n",
       "        vertical-align: middle;\n",
       "    }\n",
       "\n",
       "    .dataframe tbody tr th {\n",
       "        vertical-align: top;\n",
       "    }\n",
       "\n",
       "    .dataframe thead th {\n",
       "        text-align: right;\n",
       "    }\n",
       "</style>\n",
       "<table border=\"1\" class=\"dataframe\">\n",
       "  <thead>\n",
       "    <tr style=\"text-align: right;\">\n",
       "      <th></th>\n",
       "      <th>raw_state_name</th>\n",
       "      <th>project_name</th>\n",
       "      <th>description</th>\n",
       "      <th>locality</th>\n",
       "      <th>year_enacted</th>\n",
       "      <th>energy_type</th>\n",
       "      <th>source</th>\n",
       "      <th>state_id_fips</th>\n",
       "      <th>earliest_year_mentioned</th>\n",
       "      <th>latest_year_mentioned</th>\n",
       "      <th>n_years_mentioned</th>\n",
       "    </tr>\n",
       "  </thead>\n",
       "  <tbody>\n",
       "    <tr>\n",
       "      <th>162</th>\n",
       "      <td>CA</td>\n",
       "      <td>None</td>\n",
       "      <td>Fountain Wind Project: In Shasta County, the p...</td>\n",
       "      <td>Shasta County</td>\n",
       "      <td>2021.0</td>\n",
       "      <td>Wind</td>\n",
       "      <td>David Benda, Controversial wind farm rejected ...</td>\n",
       "      <td>06</td>\n",
       "      <td>NaN</td>\n",
       "      <td>NaN</td>\n",
       "      <td>0</td>\n",
       "    </tr>\n",
       "    <tr>\n",
       "      <th>163</th>\n",
       "      <td>CA</td>\n",
       "      <td>None</td>\n",
       "      <td>Jacumba Solar Project: In San Diego County, a ...</td>\n",
       "      <td>San Diego County</td>\n",
       "      <td>2021.0</td>\n",
       "      <td>Solar</td>\n",
       "      <td>Camille Von Kaenel, Jacumba Residents Largely ...</td>\n",
       "      <td>06</td>\n",
       "      <td>2022.0</td>\n",
       "      <td>NaN</td>\n",
       "      <td>1</td>\n",
       "    </tr>\n",
       "    <tr>\n",
       "      <th>164</th>\n",
       "      <td>CA</td>\n",
       "      <td>None</td>\n",
       "      <td>Alameda County Wind Project: Brookfield Renewa...</td>\n",
       "      <td>Alameda County</td>\n",
       "      <td>2021.0</td>\n",
       "      <td>Wind</td>\n",
       "      <td>National Audubon Society Sues California Count...</td>\n",
       "      <td>06</td>\n",
       "      <td>2021.0</td>\n",
       "      <td>NaN</td>\n",
       "      <td>1</td>\n",
       "    </tr>\n",
       "    <tr>\n",
       "      <th>165</th>\n",
       "      <td>CA</td>\n",
       "      <td>None</td>\n",
       "      <td>Jawbone Wind Energy: A group of citizens filed...</td>\n",
       "      <td>Kern County</td>\n",
       "      <td>2014.0</td>\n",
       "      <td>Wind</td>\n",
       "      <td>Citizens Opposing a Dangerous Env’t v. Cnty. o...</td>\n",
       "      <td>06</td>\n",
       "      <td>NaN</td>\n",
       "      <td>NaN</td>\n",
       "      <td>0</td>\n",
       "    </tr>\n",
       "    <tr>\n",
       "      <th>166</th>\n",
       "      <td>CA</td>\n",
       "      <td>None</td>\n",
       "      <td>Altamont Pass Wind Resource Area: A suit was f...</td>\n",
       "      <td>Alameda and Contra Costa Counties</td>\n",
       "      <td>2008.0</td>\n",
       "      <td>Wind</td>\n",
       "      <td>Center for Biological Diversity, Inc. v. FPL G...</td>\n",
       "      <td>06</td>\n",
       "      <td>NaN</td>\n",
       "      <td>NaN</td>\n",
       "      <td>0</td>\n",
       "    </tr>\n",
       "  </tbody>\n",
       "</table>\n",
       "</div>"
      ],
      "text/plain": [
       "    raw_state_name project_name  \\\n",
       "162             CA         None   \n",
       "163             CA         None   \n",
       "164             CA         None   \n",
       "165             CA         None   \n",
       "166             CA         None   \n",
       "\n",
       "                                           description  \\\n",
       "162  Fountain Wind Project: In Shasta County, the p...   \n",
       "163  Jacumba Solar Project: In San Diego County, a ...   \n",
       "164  Alameda County Wind Project: Brookfield Renewa...   \n",
       "165  Jawbone Wind Energy: A group of citizens filed...   \n",
       "166  Altamont Pass Wind Resource Area: A suit was f...   \n",
       "\n",
       "                              locality  year_enacted energy_type  \\\n",
       "162                      Shasta County        2021.0        Wind   \n",
       "163                   San Diego County        2021.0       Solar   \n",
       "164                    Alameda County         2021.0        Wind   \n",
       "165                        Kern County        2014.0        Wind   \n",
       "166  Alameda and Contra Costa Counties        2008.0        Wind   \n",
       "\n",
       "                                                source state_id_fips  \\\n",
       "162  David Benda, Controversial wind farm rejected ...            06   \n",
       "163  Camille Von Kaenel, Jacumba Residents Largely ...            06   \n",
       "164  National Audubon Society Sues California Count...            06   \n",
       "165  Citizens Opposing a Dangerous Env’t v. Cnty. o...            06   \n",
       "166  Center for Biological Diversity, Inc. v. FPL G...            06   \n",
       "\n",
       "     earliest_year_mentioned  latest_year_mentioned  n_years_mentioned  \n",
       "162                      NaN                    NaN                  0  \n",
       "163                   2022.0                    NaN                  1  \n",
       "164                   2021.0                    NaN                  1  \n",
       "165                      NaN                    NaN                  0  \n",
       "166                      NaN                    NaN                  0  "
      ]
     },
     "execution_count": 155,
     "metadata": {},
     "output_type": "execute_result"
    }
   ],
   "source": [
    "contested_project[contested_project.project_name.isna()].head()"
   ]
  },
  {
   "cell_type": "code",
   "execution_count": 160,
   "id": "6f35e269-aa99-478a-b30e-e9e73e821f7e",
   "metadata": {},
   "outputs": [
    {
     "name": "stdout",
     "output_type": "stream",
     "text": [
      "Column(\"raw_state_name\", String),\n",
      "Column(\"policy\", String),\n",
      "Column(\"year_enacted\", Float, nullable=True),\n",
      "Column(\"energy_type\", String, nullable=True),\n",
      "Column(\"source\", String, nullable=True),\n",
      "Column(\"state_id_fips\", String),\n",
      "Column(\"earliest_year_mentioned\", Integer),\n",
      "Column(\"latest_year_mentioned\", Float, nullable=True),\n",
      "Column(\"n_years_mentioned\", Integer),\n",
      "\n"
     ]
    }
   ],
   "source": [
    "convert_to_schema(state_policy)"
   ]
  },
  {
   "cell_type": "markdown",
   "id": "754cfbcb-a9e3-4ba5-b5c7-e75cba6df398",
   "metadata": {},
   "source": [
    "## ncsl_state_permitting"
   ]
  },
  {
   "cell_type": "code",
   "execution_count": 161,
   "id": "9ed41075-2bfe-4d32-8642-90e24ea2e5d7",
   "metadata": {},
   "outputs": [],
   "source": [
    "with sqlite_engine.connect() as conn:\n",
    "    ncsl_state_permitting = pd.read_sql_table(\"ncsl_state_permitting\", conn)"
   ]
  },
  {
   "cell_type": "code",
   "execution_count": 163,
   "id": "36e654d0-9ea6-4b4e-a333-0e6bbf56ca0a",
   "metadata": {},
   "outputs": [
    {
     "data": {
      "text/plain": [
       "True"
      ]
     },
     "execution_count": 163,
     "metadata": {},
     "output_type": "execute_result"
    }
   ],
   "source": [
    "ncsl_state_permitting.state_id_fips.is_unique"
   ]
  },
  {
   "cell_type": "code",
   "execution_count": 164,
   "id": "4195ab1c-fe33-401c-b413-562fee84a3bb",
   "metadata": {},
   "outputs": [
    {
     "name": "stdout",
     "output_type": "stream",
     "text": [
      "Column(\"raw_state_name\", String),\n",
      "Column(\"permitting_type\", String, nullable=True),\n",
      "Column(\"description\", String),\n",
      "Column(\"link\", String, nullable=True),\n",
      "Column(\"state_id_fips\", String),\n",
      "\n"
     ]
    }
   ],
   "source": [
    "convert_to_schema(ncsl_state_permitting)"
   ]
  },
  {
   "cell_type": "markdown",
   "id": "24968fa0-78db-4169-b508-8a81dfe9ff60",
   "metadata": {},
   "source": [
    "## MCOE"
   ]
  },
  {
   "cell_type": "code",
   "execution_count": 165,
   "id": "4634cf73-ec58-44f7-a0ef-389f5ee4f02d",
   "metadata": {},
   "outputs": [],
   "source": [
    "with sqlite_engine.connect() as conn:\n",
    "    mcoe = pd.read_sql_table(\"mcoe\", conn)"
   ]
  },
  {
   "cell_type": "code",
   "execution_count": 169,
   "id": "eeb47a2c-ef6a-4307-8a19-a7bef0302b34",
   "metadata": {},
   "outputs": [
    {
     "data": {
      "text/html": [
       "<div>\n",
       "<style scoped>\n",
       "    .dataframe tbody tr th:only-of-type {\n",
       "        vertical-align: middle;\n",
       "    }\n",
       "\n",
       "    .dataframe tbody tr th {\n",
       "        vertical-align: top;\n",
       "    }\n",
       "\n",
       "    .dataframe thead th {\n",
       "        text-align: right;\n",
       "    }\n",
       "</style>\n",
       "<table border=\"1\" class=\"dataframe\">\n",
       "  <thead>\n",
       "    <tr style=\"text-align: right;\">\n",
       "      <th></th>\n",
       "      <th>plant_id_eia</th>\n",
       "      <th>generator_id</th>\n",
       "      <th>report_date</th>\n",
       "      <th>unit_id_pudl</th>\n",
       "      <th>plant_id_pudl</th>\n",
       "      <th>plant_name_eia</th>\n",
       "      <th>utility_id_eia</th>\n",
       "      <th>utility_id_pudl</th>\n",
       "      <th>utility_name_eia</th>\n",
       "      <th>associated_combined_heat_power</th>\n",
       "      <th>...</th>\n",
       "      <th>turbines_num</th>\n",
       "      <th>ultrasupercritical_tech</th>\n",
       "      <th>uprate_derate_completed_date</th>\n",
       "      <th>uprate_derate_during_year</th>\n",
       "      <th>winter_capacity_estimate</th>\n",
       "      <th>winter_capacity_mw</th>\n",
       "      <th>winter_estimated_capability_mw</th>\n",
       "      <th>zip_code</th>\n",
       "      <th>state_id_fips</th>\n",
       "      <th>county_id_fips</th>\n",
       "    </tr>\n",
       "  </thead>\n",
       "  <tbody>\n",
       "    <tr>\n",
       "      <th>0</th>\n",
       "      <td>1</td>\n",
       "      <td>1</td>\n",
       "      <td>2020-01-01</td>\n",
       "      <td>NaN</td>\n",
       "      <td>14614.0</td>\n",
       "      <td>Sand Point</td>\n",
       "      <td>63560.0</td>\n",
       "      <td>6409.0</td>\n",
       "      <td>TDX Sand Point Generating, LLC</td>\n",
       "      <td>False</td>\n",
       "      <td>...</td>\n",
       "      <td>None</td>\n",
       "      <td>None</td>\n",
       "      <td>NaT</td>\n",
       "      <td>False</td>\n",
       "      <td>None</td>\n",
       "      <td>0.4</td>\n",
       "      <td>NaN</td>\n",
       "      <td>99661.0</td>\n",
       "      <td>02</td>\n",
       "      <td>02013</td>\n",
       "    </tr>\n",
       "    <tr>\n",
       "      <th>1</th>\n",
       "      <td>1</td>\n",
       "      <td>2</td>\n",
       "      <td>2020-01-01</td>\n",
       "      <td>NaN</td>\n",
       "      <td>14614.0</td>\n",
       "      <td>Sand Point</td>\n",
       "      <td>63560.0</td>\n",
       "      <td>6409.0</td>\n",
       "      <td>TDX Sand Point Generating, LLC</td>\n",
       "      <td>False</td>\n",
       "      <td>...</td>\n",
       "      <td>None</td>\n",
       "      <td>None</td>\n",
       "      <td>NaT</td>\n",
       "      <td>False</td>\n",
       "      <td>None</td>\n",
       "      <td>0.3</td>\n",
       "      <td>NaN</td>\n",
       "      <td>99661.0</td>\n",
       "      <td>02</td>\n",
       "      <td>02013</td>\n",
       "    </tr>\n",
       "    <tr>\n",
       "      <th>2</th>\n",
       "      <td>1</td>\n",
       "      <td>3</td>\n",
       "      <td>2020-01-01</td>\n",
       "      <td>NaN</td>\n",
       "      <td>14614.0</td>\n",
       "      <td>Sand Point</td>\n",
       "      <td>63560.0</td>\n",
       "      <td>6409.0</td>\n",
       "      <td>TDX Sand Point Generating, LLC</td>\n",
       "      <td>False</td>\n",
       "      <td>...</td>\n",
       "      <td>None</td>\n",
       "      <td>None</td>\n",
       "      <td>NaT</td>\n",
       "      <td>False</td>\n",
       "      <td>None</td>\n",
       "      <td>0.3</td>\n",
       "      <td>NaN</td>\n",
       "      <td>99661.0</td>\n",
       "      <td>02</td>\n",
       "      <td>02013</td>\n",
       "    </tr>\n",
       "    <tr>\n",
       "      <th>3</th>\n",
       "      <td>1</td>\n",
       "      <td>5</td>\n",
       "      <td>2020-01-01</td>\n",
       "      <td>NaN</td>\n",
       "      <td>14614.0</td>\n",
       "      <td>Sand Point</td>\n",
       "      <td>63560.0</td>\n",
       "      <td>6409.0</td>\n",
       "      <td>TDX Sand Point Generating, LLC</td>\n",
       "      <td>False</td>\n",
       "      <td>...</td>\n",
       "      <td>None</td>\n",
       "      <td>None</td>\n",
       "      <td>NaT</td>\n",
       "      <td>False</td>\n",
       "      <td>None</td>\n",
       "      <td>0.3</td>\n",
       "      <td>NaN</td>\n",
       "      <td>99661.0</td>\n",
       "      <td>02</td>\n",
       "      <td>02013</td>\n",
       "    </tr>\n",
       "    <tr>\n",
       "      <th>4</th>\n",
       "      <td>1</td>\n",
       "      <td>WT1</td>\n",
       "      <td>2020-01-01</td>\n",
       "      <td>NaN</td>\n",
       "      <td>14614.0</td>\n",
       "      <td>Sand Point</td>\n",
       "      <td>63560.0</td>\n",
       "      <td>6409.0</td>\n",
       "      <td>TDX Sand Point Generating, LLC</td>\n",
       "      <td>False</td>\n",
       "      <td>...</td>\n",
       "      <td>None</td>\n",
       "      <td>None</td>\n",
       "      <td>NaT</td>\n",
       "      <td>False</td>\n",
       "      <td>None</td>\n",
       "      <td>0.1</td>\n",
       "      <td>NaN</td>\n",
       "      <td>99661.0</td>\n",
       "      <td>02</td>\n",
       "      <td>02013</td>\n",
       "    </tr>\n",
       "  </tbody>\n",
       "</table>\n",
       "<p>5 rows × 121 columns</p>\n",
       "</div>"
      ],
      "text/plain": [
       "   plant_id_eia generator_id report_date  unit_id_pudl  plant_id_pudl  \\\n",
       "0             1            1  2020-01-01           NaN        14614.0   \n",
       "1             1            2  2020-01-01           NaN        14614.0   \n",
       "2             1            3  2020-01-01           NaN        14614.0   \n",
       "3             1            5  2020-01-01           NaN        14614.0   \n",
       "4             1          WT1  2020-01-01           NaN        14614.0   \n",
       "\n",
       "  plant_name_eia  utility_id_eia  utility_id_pudl  \\\n",
       "0     Sand Point         63560.0           6409.0   \n",
       "1     Sand Point         63560.0           6409.0   \n",
       "2     Sand Point         63560.0           6409.0   \n",
       "3     Sand Point         63560.0           6409.0   \n",
       "4     Sand Point         63560.0           6409.0   \n",
       "\n",
       "                 utility_name_eia associated_combined_heat_power  ...  \\\n",
       "0  TDX Sand Point Generating, LLC                          False  ...   \n",
       "1  TDX Sand Point Generating, LLC                          False  ...   \n",
       "2  TDX Sand Point Generating, LLC                          False  ...   \n",
       "3  TDX Sand Point Generating, LLC                          False  ...   \n",
       "4  TDX Sand Point Generating, LLC                          False  ...   \n",
       "\n",
       "  turbines_num ultrasupercritical_tech uprate_derate_completed_date  \\\n",
       "0         None                    None                          NaT   \n",
       "1         None                    None                          NaT   \n",
       "2         None                    None                          NaT   \n",
       "3         None                    None                          NaT   \n",
       "4         None                    None                          NaT   \n",
       "\n",
       "  uprate_derate_during_year  winter_capacity_estimate  winter_capacity_mw  \\\n",
       "0                     False                      None                 0.4   \n",
       "1                     False                      None                 0.3   \n",
       "2                     False                      None                 0.3   \n",
       "3                     False                      None                 0.3   \n",
       "4                     False                      None                 0.1   \n",
       "\n",
       "  winter_estimated_capability_mw zip_code state_id_fips county_id_fips  \n",
       "0                            NaN  99661.0            02          02013  \n",
       "1                            NaN  99661.0            02          02013  \n",
       "2                            NaN  99661.0            02          02013  \n",
       "3                            NaN  99661.0            02          02013  \n",
       "4                            NaN  99661.0            02          02013  \n",
       "\n",
       "[5 rows x 121 columns]"
      ]
     },
     "execution_count": 169,
     "metadata": {},
     "output_type": "execute_result"
    }
   ],
   "source": [
    "mcoe"
   ]
  },
  {
   "cell_type": "code",
   "execution_count": 177,
   "id": "0e73b8cf-4f0e-4285-8159-4aed23e36dcf",
   "metadata": {},
   "outputs": [
    {
     "data": {
      "text/plain": [
       "1    30053\n",
       "dtype: int64"
      ]
     },
     "execution_count": 177,
     "metadata": {},
     "output_type": "execute_result"
    }
   ],
   "source": [
    "mcoe[[\"plant_id_eia\", \"generator_id\", \"report_date\"]].value_counts().value_counts()"
   ]
  },
  {
   "cell_type": "code",
   "execution_count": 173,
   "id": "907d570a-1f79-493f-93a9-baf99cb9887b",
   "metadata": {},
   "outputs": [
    {
     "name": "stdout",
     "output_type": "stream",
     "text": [
      "Column(\"plant_id_eia\", Integer),\n",
      "Column(\"generator_id\", String),\n",
      "Column(\"report_date\", DateTime),\n",
      "Column(\"unit_id_pudl\", Float, nullable=True),\n",
      "Column(\"plant_id_pudl\", Float, nullable=True),\n",
      "Column(\"plant_name_eia\", String),\n",
      "Column(\"utility_id_eia\", Float, nullable=True),\n",
      "Column(\"utility_id_pudl\", Float, nullable=True),\n",
      "Column(\"utility_name_eia\", String, nullable=True),\n",
      "Column(\"associated_combined_heat_power\", String, nullable=True),\n",
      "Column(\"balancing_authority_code_eia\", String, nullable=True),\n",
      "Column(\"balancing_authority_name_eia\", String, nullable=True),\n",
      "Column(\"bga_source\", String, nullable=True),\n",
      "Column(\"bypass_heat_recovery\", String, nullable=True),\n",
      "Column(\"capacity_factor\", Float, nullable=True),\n",
      "Column(\"capacity_mw\", Float, nullable=True),\n",
      "Column(\"carbon_capture\", String, nullable=True),\n",
      "Column(\"city\", String, nullable=True),\n",
      "Column(\"cofire_fuels\", String, nullable=True),\n",
      "Column(\"county\", String, nullable=True),\n",
      "Column(\"current_planned_operating_date\", DateTime, nullable=True),\n",
      "Column(\"data_source\", String, nullable=True),\n",
      "Column(\"deliver_power_transgrid\", String, nullable=True),\n",
      "Column(\"distributed_generation\", String, nullable=True),\n",
      "Column(\"duct_burners\", String, nullable=True),\n",
      "Column(\"energy_source_1_transport_1\", String, nullable=True),\n",
      "Column(\"energy_source_1_transport_2\", String, nullable=True),\n",
      "Column(\"energy_source_1_transport_3\", String, nullable=True),\n",
      "Column(\"energy_source_2_transport_1\", String, nullable=True),\n",
      "Column(\"energy_source_2_transport_2\", String, nullable=True),\n",
      "Column(\"energy_source_2_transport_3\", String, nullable=True),\n",
      "Column(\"energy_source_code_1\", String, nullable=True),\n",
      "Column(\"energy_source_code_2\", String, nullable=True),\n",
      "Column(\"energy_source_code_3\", String, nullable=True),\n",
      "Column(\"energy_source_code_4\", String, nullable=True),\n",
      "Column(\"energy_source_code_5\", String, nullable=True),\n",
      "Column(\"energy_source_code_6\", String, nullable=True),\n",
      "Column(\"ferc_cogen_status\", String, nullable=True),\n",
      "Column(\"ferc_exempt_wholesale_generator\", String, nullable=True),\n",
      "Column(\"ferc_small_power_producer\", String, nullable=True),\n",
      "Column(\"fluidized_bed_tech\", String, nullable=True),\n",
      "Column(\"fuel_cost_from_eiaapi\", Float, nullable=True),\n",
      "Column(\"fuel_cost_per_mmbtu\", Float, nullable=True),\n",
      "Column(\"fuel_cost_per_mwh\", Float, nullable=True),\n",
      "Column(\"fuel_type_code_pudl\", String, nullable=True),\n",
      "Column(\"fuel_type_count\", Integer),\n",
      "Column(\"grid_voltage_2_kv\", Float, nullable=True),\n",
      "Column(\"grid_voltage_3_kv\", Float, nullable=True),\n",
      "Column(\"grid_voltage_kv\", Float, nullable=True),\n",
      "Column(\"heat_rate_mmbtu_mwh\", Float, nullable=True),\n",
      "Column(\"iso_rto_code\", String, nullable=True),\n",
      "Column(\"latitude\", Float, nullable=True),\n",
      "Column(\"longitude\", Float, nullable=True),\n",
      "Column(\"minimum_load_mw\", Float, nullable=True),\n",
      "Column(\"multiple_fuels\", String, nullable=True),\n",
      "Column(\"nameplate_power_factor\", Float, nullable=True),\n",
      "Column(\"net_generation_mwh\", Float, nullable=True),\n",
      "Column(\"operating_date\", DateTime, nullable=True),\n",
      "Column(\"operating_switch\", String, nullable=True),\n",
      "Column(\"operational_status\", String, nullable=True),\n",
      "Column(\"operational_status_code\", String, nullable=True),\n",
      "Column(\"original_planned_operating_date\", DateTime, nullable=True),\n",
      "Column(\"other_combustion_tech\", String, nullable=True),\n",
      "Column(\"other_modifications_date\", DateTime, nullable=True),\n",
      "Column(\"other_planned_modifications\", String, nullable=True),\n",
      "Column(\"owned_by_non_utility\", String, nullable=True),\n",
      "Column(\"ownership_code\", String, nullable=True),\n",
      "Column(\"planned_derate_date\", DateTime, nullable=True),\n",
      "Column(\"planned_energy_source_code_1\", String, nullable=True),\n",
      "Column(\"planned_modifications\", String, nullable=True),\n",
      "Column(\"planned_net_summer_capacity_derate_mw\", Float, nullable=True),\n",
      "Column(\"planned_net_summer_capacity_uprate_mw\", Float, nullable=True),\n",
      "Column(\"planned_net_winter_capacity_derate_mw\", Float, nullable=True),\n",
      "Column(\"planned_net_winter_capacity_uprate_mw\", Float, nullable=True),\n",
      "Column(\"planned_new_capacity_mw\", Float, nullable=True),\n",
      "Column(\"planned_new_prime_mover_code\", String, nullable=True),\n",
      "Column(\"planned_repower_date\", DateTime, nullable=True),\n",
      "Column(\"planned_retirement_date\", DateTime, nullable=True),\n",
      "Column(\"planned_uprate_date\", DateTime, nullable=True),\n",
      "Column(\"previously_canceled\", String, nullable=True),\n",
      "Column(\"primary_purpose_id_naics\", Float, nullable=True),\n",
      "Column(\"prime_mover_code\", String, nullable=True),\n",
      "Column(\"pulverized_coal_tech\", String, nullable=True),\n",
      "Column(\"reactive_power_output_mvar\", Float, nullable=True),\n",
      "Column(\"retirement_date\", DateTime, nullable=True),\n",
      "Column(\"rto_iso_lmp_node_id\", String, nullable=True),\n",
      "Column(\"rto_iso_location_wholesale_reporting_id\", String, nullable=True),\n",
      "Column(\"sector_id_eia\", Float, nullable=True),\n",
      "Column(\"sector_name_eia\", String, nullable=True),\n",
      "Column(\"solid_fuel_gasification\", String, nullable=True),\n",
      "Column(\"startup_source_code_1\", String, nullable=True),\n",
      "Column(\"startup_source_code_2\", String, nullable=True),\n",
      "Column(\"startup_source_code_3\", String, nullable=True),\n",
      "Column(\"startup_source_code_4\", String, nullable=True),\n",
      "Column(\"state\", String, nullable=True),\n",
      "Column(\"stoker_tech\", String, nullable=True),\n",
      "Column(\"street_address\", String, nullable=True),\n",
      "Column(\"subcritical_tech\", String, nullable=True),\n",
      "Column(\"summer_capacity_estimate\", String, nullable=True),\n",
      "Column(\"summer_capacity_mw\", Float, nullable=True),\n",
      "Column(\"summer_estimated_capability_mw\", Float, nullable=True),\n",
      "Column(\"supercritical_tech\", String, nullable=True),\n",
      "Column(\"switch_oil_gas\", String, nullable=True),\n",
      "Column(\"syncronized_transmission_grid\", String, nullable=True),\n",
      "Column(\"technology_description\", String, nullable=True),\n",
      "Column(\"time_cold_shutdown_full_load_code\", String, nullable=True),\n",
      "Column(\"timezone\", String),\n",
      "Column(\"topping_bottoming_code\", String, nullable=True),\n",
      "Column(\"total_fuel_cost\", Float, nullable=True),\n",
      "Column(\"total_mmbtu\", Float, nullable=True),\n",
      "Column(\"turbines_inverters_hydrokinetics\", Float, nullable=True),\n",
      "Column(\"turbines_num\", String, nullable=True),\n",
      "Column(\"ultrasupercritical_tech\", String, nullable=True),\n",
      "Column(\"uprate_derate_completed_date\", DateTime, nullable=True),\n",
      "Column(\"uprate_derate_during_year\", String, nullable=True),\n",
      "Column(\"winter_capacity_estimate\", String, nullable=True),\n",
      "Column(\"winter_capacity_mw\", Float, nullable=True),\n",
      "Column(\"winter_estimated_capability_mw\", Float, nullable=True),\n",
      "Column(\"zip_code\", Float, nullable=True),\n",
      "Column(\"state_id_fips\", String, nullable=True),\n",
      "Column(\"county_id_fips\", String, nullable=True),\n",
      "\n"
     ]
    }
   ],
   "source": [
    "convert_to_schema(mcoe)"
   ]
  },
  {
   "cell_type": "code",
   "execution_count": 176,
   "id": "8781f0c8-910f-4746-be47-dd26dbcf669c",
   "metadata": {},
   "outputs": [
    {
     "data": {
      "text/plain": [
       "2.0    12860\n",
       "1.0    12329\n",
       "7.0     1418\n",
       "4.0     1000\n",
       "5.0      759\n",
       "3.0      520\n",
       "6.0      497\n",
       "Name: sector_id_eia, dtype: int64"
      ]
     },
     "execution_count": 176,
     "metadata": {},
     "output_type": "execute_result"
    }
   ],
   "source": [
    "mcoe.sector_id_eia.value_counts()"
   ]
  },
  {
   "cell_type": "code",
   "execution_count": null,
   "id": "527e2c2b-edd0-4fb7-aa17-8d79c29fff5c",
   "metadata": {},
   "outputs": [],
   "source": []
  }
 ],
 "metadata": {
  "kernelspec": {
   "display_name": "Python 3 (ipykernel)",
   "language": "python",
   "name": "python3"
  },
  "language_info": {
   "codemirror_mode": {
    "name": "ipython",
    "version": 3
   },
   "file_extension": ".py",
   "mimetype": "text/x-python",
   "name": "python",
   "nbconvert_exporter": "python",
   "pygments_lexer": "ipython3",
   "version": "3.9.15"
  }
 },
 "nbformat": 4,
 "nbformat_minor": 5
}
